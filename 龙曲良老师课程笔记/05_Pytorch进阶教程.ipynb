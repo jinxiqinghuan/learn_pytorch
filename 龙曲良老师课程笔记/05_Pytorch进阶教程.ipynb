{
  "nbformat": 4,
  "nbformat_minor": 0,
  "metadata": {
    "colab": {
      "name": "龙曲良老师课程笔记/05_Pytorch进阶教程.ipynb",
      "provenance": [],
      "authorship_tag": "ABX9TyMjAT3knZ41xIfY3H5wbQp/",
      "include_colab_link": true
    },
    "kernelspec": {
      "name": "python3",
      "display_name": "Python 3"
    }
  },
  "cells": [
    {
      "cell_type": "markdown",
      "metadata": {
        "id": "view-in-github",
        "colab_type": "text"
      },
      "source": [
        "<a href=\"https://colab.research.google.com/github/jinxiqinghuan/learn_pytorch/blob/main/%E9%BE%99%E6%9B%B2%E8%89%AF%E8%80%81%E5%B8%88%E8%AF%BE%E7%A8%8B%E7%AC%94%E8%AE%B0/05_Pytorch%E8%BF%9B%E9%98%B6%E6%95%99%E7%A8%8B.ipynb\" target=\"_parent\"><img src=\"https://colab.research.google.com/assets/colab-badge.svg\" alt=\"Open In Colab\"/></a>"
      ]
    },
    {
      "cell_type": "markdown",
      "metadata": {
        "id": "c9ulWJJrysc-"
      },
      "source": [
        "# Pytorch进阶教程"
      ]
    },
    {
      "cell_type": "code",
      "metadata": {
        "id": "mpBYdCiaywVP"
      },
      "source": [
        "import torch"
      ],
      "execution_count": 3,
      "outputs": []
    },
    {
      "cell_type": "markdown",
      "metadata": {
        "id": "vNbydX9Oy0uM"
      },
      "source": [
        "## 1.Broadcasting\r\n",
        "\r\n",
        "**key idea:**\r\n",
        "* insert i dim ahead\r\n",
        "* expand dims with size 1 to same size\r\n",
        "* feature maps: [4, 32, 14, 14]\r\n",
        "* bias: [32, 1, 1]=> [1, 32, 1, 1] => [4, 32, 14, 14]"
      ]
    },
    {
      "cell_type": "markdown",
      "metadata": {
        "id": "RVnKEs5hpRhV"
      },
      "source": [
        "龙老师只有远离讲解，没有代码，一下代码来自：https://pytorch.org/docs/stable/notes/broadcasting.html"
      ]
    },
    {
      "cell_type": "markdown",
      "metadata": {
        "id": "Ciemwd_YpgEK"
      },
      "source": [
        "Two tensors are “broadcastable” if the following rules hold:\r\n",
        "\r\n",
        "\r\n",
        "*   Each tensor has at least one dimension.\r\n",
        "\r\n",
        "*   When iterating over the dimension sizes, starting at the trailing dimension, the dimension sizes must either be equal, one of them is 1, or one of them does not exist.\r\n",
        "\r\n",
        "\r\n",
        "\r\n"
      ]
    },
    {
      "cell_type": "markdown",
      "metadata": {
        "id": "Ml3S3Q9Jqbst"
      },
      "source": [
        "**For Example:**\r\n",
        "\r\n",
        "1. same shapes are always broadcastable (i.e. the above rules always hold)\r\n"
      ]
    },
    {
      "cell_type": "code",
      "metadata": {
        "colab": {
          "base_uri": "https://localhost:8080/"
        },
        "id": "RJ8YUtdrpQd6",
        "outputId": "7fc39762-2110-4431-c763-018ede02c53f"
      },
      "source": [
        "x = torch.empty(5, 7, 3)\r\n",
        "y = torch.empty(5, 7, 3)\r\n",
        "x.shape == y.shape"
      ],
      "execution_count": 11,
      "outputs": [
        {
          "output_type": "execute_result",
          "data": {
            "text/plain": [
              "True"
            ]
          },
          "metadata": {
            "tags": []
          },
          "execution_count": 11
        }
      ]
    },
    {
      "cell_type": "markdown",
      "metadata": {
        "id": "Uo3X5kwTqnih"
      },
      "source": [
        "2. x and y are not broadcastable, because x does not have at least 1 dimension\r\n"
      ]
    },
    {
      "cell_type": "code",
      "metadata": {
        "id": "FUClXKYbyzm8",
        "colab": {
          "base_uri": "https://localhost:8080/"
        },
        "outputId": "c96fdc33-0977-4d31-8f81-d52bd28f09ab"
      },
      "source": [
        "x = torch.empty((0,))\r\n",
        "x, x.shape"
      ],
      "execution_count": 17,
      "outputs": [
        {
          "output_type": "execute_result",
          "data": {
            "text/plain": [
              "(tensor([]), torch.Size([0]))"
            ]
          },
          "metadata": {
            "tags": []
          },
          "execution_count": 17
        }
      ]
    },
    {
      "cell_type": "code",
      "metadata": {
        "colab": {
          "base_uri": "https://localhost:8080/"
        },
        "id": "D_LwQAdZrSOe",
        "outputId": "a81b3d39-afc1-416e-a441-8934d3d3bd3e"
      },
      "source": [
        "y = torch.empty(2, 2)\r\n",
        "y, y.shape"
      ],
      "execution_count": 19,
      "outputs": [
        {
          "output_type": "execute_result",
          "data": {
            "text/plain": [
              "(tensor([[4.1494e-35, 0.0000e+00],\n",
              "         [1.8578e-01, 3.9177e-02]]), torch.Size([2, 2]))"
            ]
          },
          "metadata": {
            "tags": []
          },
          "execution_count": 19
        }
      ]
    },
    {
      "cell_type": "markdown",
      "metadata": {
        "id": "LRLVuPhkrKH_"
      },
      "source": [
        "3. can line up trailing dimensions\r\n",
        "x and y are broadcastable.\r\n",
        "\r\n",
        "  1st trailing dimension: both have size 1\r\n",
        "\r\n",
        "  2nd trailing dimension: y has size 1\r\n",
        "\r\n",
        "  3rd trailing dimension: x size == y size\r\n",
        "\r\n",
        "  4th trailing dimension: y dimension doesn't exist\r\n"
      ]
    },
    {
      "cell_type": "code",
      "metadata": {
        "colab": {
          "base_uri": "https://localhost:8080/"
        },
        "id": "9NdWGhL5q4IG",
        "outputId": "8bb97cb4-ca9e-46e9-af1f-1fddbda55e52"
      },
      "source": [
        "x = torch.empty(5, 3, 4, 1)\r\n",
        "y = torch.empty(  3, 1, 1)\r\n",
        "x.shape, y.shape"
      ],
      "execution_count": 29,
      "outputs": [
        {
          "output_type": "execute_result",
          "data": {
            "text/plain": [
              "(torch.Size([5, 3, 4, 1]), torch.Size([3, 1, 1]))"
            ]
          },
          "metadata": {
            "tags": []
          },
          "execution_count": 29
        }
      ]
    },
    {
      "cell_type": "code",
      "metadata": {
        "colab": {
          "base_uri": "https://localhost:8080/"
        },
        "id": "Y4dQdPWuuZL0",
        "outputId": "a4aa0617-d1f4-49d7-9157-c61d19f9ecf6"
      },
      "source": [
        "(x + y).shape"
      ],
      "execution_count": 31,
      "outputs": [
        {
          "output_type": "execute_result",
          "data": {
            "text/plain": [
              "torch.Size([5, 3, 4, 1])"
            ]
          },
          "metadata": {
            "tags": []
          },
          "execution_count": 31
        }
      ]
    },
    {
      "cell_type": "markdown",
      "metadata": {
        "id": "5uP1lKSXtQC5"
      },
      "source": [
        "4. but:\r\n",
        "\r\n",
        "  x and y are not broadcastable, because in the 3rd trailing dimension 2 != 3"
      ]
    },
    {
      "cell_type": "code",
      "metadata": {
        "id": "0GVIBgO_tP06"
      },
      "source": [
        "x = torch.empty(5, 2, 4, 1)\r\n",
        "y = torch.empty(  3, 1, 1)"
      ],
      "execution_count": 23,
      "outputs": []
    },
    {
      "cell_type": "code",
      "metadata": {
        "id": "KDj20PhLuUsk"
      },
      "source": [
        "# x + y"
      ],
      "execution_count": 27,
      "outputs": []
    },
    {
      "cell_type": "markdown",
      "metadata": {
        "id": "Hx_iyikSt48M"
      },
      "source": [
        "If two tensors x, y are “broadcastable”, the resulting tensor size is calculated as follows:\r\n",
        "\r\n",
        "* If the number of dimensions of x and y are not equal, prepend 1 to the dimensions of the tensor with fewer dimensions to make them equal length\r\n",
        "\r\n",
        "* Then, for each dimension size, the resulting dimension size is the max of the sizes of x and y along that dimension."
      ]
    },
    {
      "cell_type": "markdown",
      "metadata": {
        "id": "Hev6DkfMuEFo"
      },
      "source": [
        "**For example**\r\n"
      ]
    },
    {
      "cell_type": "code",
      "metadata": {
        "colab": {
          "base_uri": "https://localhost:8080/"
        },
        "id": "C-VIjEscuk1g",
        "outputId": "89eacf27-b138-400c-db58-bfbb0e16ec66"
      },
      "source": [
        "x = torch.empty(5, 1, 4, 1)\r\n",
        "y = torch.empty(  3, 1, 1)\r\n",
        "(x + y).shape"
      ],
      "execution_count": 33,
      "outputs": [
        {
          "output_type": "execute_result",
          "data": {
            "text/plain": [
              "torch.Size([5, 3, 4, 1])"
            ]
          },
          "metadata": {
            "tags": []
          },
          "execution_count": 33
        }
      ]
    },
    {
      "cell_type": "markdown",
      "metadata": {
        "id": "uNpObgu2y7s8"
      },
      "source": [
        "## 2.合并与分割\r\n",
        "\r\n",
        "* cat\r\n",
        "* stack\r\n",
        "* split(按长度拆分)\r\n",
        "* chunk(按数量拆分)"
      ]
    },
    {
      "cell_type": "markdown",
      "metadata": {
        "id": "22VfCQ_1yCz1"
      },
      "source": [
        "### cat"
      ]
    },
    {
      "cell_type": "code",
      "metadata": {
        "id": "geGXmgqGy_lV",
        "colab": {
          "base_uri": "https://localhost:8080/"
        },
        "outputId": "c2866884-ee23-4cd0-f090-307cc78f3481"
      },
      "source": [
        "a = torch.rand(4, 32, 8) # 四个班级32名同学的八门课程的成绩单\r\n",
        "a.shape"
      ],
      "execution_count": 34,
      "outputs": [
        {
          "output_type": "execute_result",
          "data": {
            "text/plain": [
              "torch.Size([4, 32, 8])"
            ]
          },
          "metadata": {
            "tags": []
          },
          "execution_count": 34
        }
      ]
    },
    {
      "cell_type": "code",
      "metadata": {
        "colab": {
          "base_uri": "https://localhost:8080/"
        },
        "id": "JvtIM3zcwE6N",
        "outputId": "e06263b2-d6c0-4a8d-b078-12e3e938cf14"
      },
      "source": [
        "b = torch.rand(5, 32, 8)\r\n",
        "b.shape"
      ],
      "execution_count": 35,
      "outputs": [
        {
          "output_type": "execute_result",
          "data": {
            "text/plain": [
              "torch.Size([5, 32, 8])"
            ]
          },
          "metadata": {
            "tags": []
          },
          "execution_count": 35
        }
      ]
    },
    {
      "cell_type": "code",
      "metadata": {
        "colab": {
          "base_uri": "https://localhost:8080/"
        },
        "id": "yZ5wvJRfwKze",
        "outputId": "81de8b7c-c9ff-46a9-843e-03773e305938"
      },
      "source": [
        "torch.cat([a, b], dim=0).shape"
      ],
      "execution_count": 36,
      "outputs": [
        {
          "output_type": "execute_result",
          "data": {
            "text/plain": [
              "torch.Size([9, 32, 8])"
            ]
          },
          "metadata": {
            "tags": []
          },
          "execution_count": 36
        }
      ]
    },
    {
      "cell_type": "code",
      "metadata": {
        "id": "DYnT52--wSnj"
      },
      "source": [
        "a1 = torch.rand(4, 3, 32, 32)\r\n",
        "a2 = torch.rand(5, 3, 32, 32)"
      ],
      "execution_count": 41,
      "outputs": []
    },
    {
      "cell_type": "code",
      "metadata": {
        "colab": {
          "base_uri": "https://localhost:8080/"
        },
        "id": "_TVZH2eywxXR",
        "outputId": "89a9e7cc-d262-4da8-b8e3-a1262bd09590"
      },
      "source": [
        "torch.cat([a1, a2], dim=0).shape"
      ],
      "execution_count": 42,
      "outputs": [
        {
          "output_type": "execute_result",
          "data": {
            "text/plain": [
              "torch.Size([9, 3, 32, 32])"
            ]
          },
          "metadata": {
            "tags": []
          },
          "execution_count": 42
        }
      ]
    },
    {
      "cell_type": "code",
      "metadata": {
        "colab": {
          "base_uri": "https://localhost:8080/"
        },
        "id": "JlNvRTfQw4f1",
        "outputId": "d6ad3552-6a59-4dad-f919-e61cde22dedb"
      },
      "source": [
        "a2 = torch.rand(4, 1, 32, 32)\r\n",
        "a1.shape, a2.shape"
      ],
      "execution_count": 44,
      "outputs": [
        {
          "output_type": "execute_result",
          "data": {
            "text/plain": [
              "(torch.Size([4, 3, 32, 32]), torch.Size([4, 1, 32, 32]))"
            ]
          },
          "metadata": {
            "tags": []
          },
          "execution_count": 44
        }
      ]
    },
    {
      "cell_type": "code",
      "metadata": {
        "colab": {
          "base_uri": "https://localhost:8080/"
        },
        "id": "1KnFkc0bxRP-",
        "outputId": "3b889bfa-8ff8-4f86-f1bd-b08f0315e2a1"
      },
      "source": [
        "torch.cat([a1, a2], dim=1).shape"
      ],
      "execution_count": 45,
      "outputs": [
        {
          "output_type": "execute_result",
          "data": {
            "text/plain": [
              "torch.Size([4, 4, 32, 32])"
            ]
          },
          "metadata": {
            "tags": []
          },
          "execution_count": 45
        }
      ]
    },
    {
      "cell_type": "code",
      "metadata": {
        "colab": {
          "base_uri": "https://localhost:8080/"
        },
        "id": "rGs9ZM5GxlX9",
        "outputId": "005c9f9b-d6ce-4980-d963-8094973a9031"
      },
      "source": [
        "a1 = torch.rand(4, 3, 16, 32)\r\n",
        "a2 = torch.rand(4, 3, 16, 32)\r\n",
        "torch.cat([a1, a2], dim=2).shape"
      ],
      "execution_count": 48,
      "outputs": [
        {
          "output_type": "execute_result",
          "data": {
            "text/plain": [
              "torch.Size([4, 3, 32, 32])"
            ]
          },
          "metadata": {
            "tags": []
          },
          "execution_count": 48
        }
      ]
    },
    {
      "cell_type": "markdown",
      "metadata": {
        "id": "1lpdainOyFhb"
      },
      "source": [
        "###stack"
      ]
    },
    {
      "cell_type": "code",
      "metadata": {
        "colab": {
          "base_uri": "https://localhost:8080/"
        },
        "id": "f9n7k-XYx4_X",
        "outputId": "80359aa6-9c60-4c0d-d53a-b97beff943af"
      },
      "source": [
        "torch.cat([a1, a2], dim=2).shape"
      ],
      "execution_count": 49,
      "outputs": [
        {
          "output_type": "execute_result",
          "data": {
            "text/plain": [
              "torch.Size([4, 3, 32, 32])"
            ]
          },
          "metadata": {
            "tags": []
          },
          "execution_count": 49
        }
      ]
    },
    {
      "cell_type": "code",
      "metadata": {
        "colab": {
          "base_uri": "https://localhost:8080/"
        },
        "id": "66M16FwSyPZ7",
        "outputId": "ca651d01-e08d-49e6-ec0e-335437e47e2d"
      },
      "source": [
        "torch.stack([a1, a2], dim=2).shape # 创建了一个新的维度"
      ],
      "execution_count": 51,
      "outputs": [
        {
          "output_type": "execute_result",
          "data": {
            "text/plain": [
              "torch.Size([4, 3, 2, 16, 32])"
            ]
          },
          "metadata": {
            "tags": []
          },
          "execution_count": 51
        }
      ]
    },
    {
      "cell_type": "markdown",
      "metadata": {
        "id": "c8SW59nVzMTA"
      },
      "source": [
        "假设这样一个场景，两位老师统计了两个班各32名同学的8门课成绩，想把他们合成一个表格，如果用cat,就无法区分这两个班级了，这个时候要使用stack（这个举例不是很合适，因为用stack两个班级的同学数必须相同）"
      ]
    },
    {
      "cell_type": "code",
      "metadata": {
        "colab": {
          "base_uri": "https://localhost:8080/"
        },
        "id": "dZCeXJEpyZ2j",
        "outputId": "ddfeee04-5d10-4c06-db7d-53ba294da473"
      },
      "source": [
        "a = torch.rand(32, 8)\r\n",
        "b = torch.rand(32, 8)\r\n",
        "torch.stack([a, b], dim=0).shape"
      ],
      "execution_count": 53,
      "outputs": [
        {
          "output_type": "execute_result",
          "data": {
            "text/plain": [
              "torch.Size([2, 32, 8])"
            ]
          },
          "metadata": {
            "tags": []
          },
          "execution_count": 53
        }
      ]
    },
    {
      "cell_type": "markdown",
      "metadata": {
        "id": "fFPVTJLC0I3h"
      },
      "source": [
        "### split"
      ]
    },
    {
      "cell_type": "code",
      "metadata": {
        "colab": {
          "base_uri": "https://localhost:8080/"
        },
        "id": "QX9qKEKqy-Gy",
        "outputId": "ebd97ffc-c5c2-4d06-c87d-760ab5d9a602"
      },
      "source": [
        "b = torch.rand(32, 8)\r\n",
        "a.shape"
      ],
      "execution_count": 54,
      "outputs": [
        {
          "output_type": "execute_result",
          "data": {
            "text/plain": [
              "torch.Size([32, 8])"
            ]
          },
          "metadata": {
            "tags": []
          },
          "execution_count": 54
        }
      ]
    },
    {
      "cell_type": "code",
      "metadata": {
        "colab": {
          "base_uri": "https://localhost:8080/"
        },
        "id": "3zOcQll70RUG",
        "outputId": "765aa0fa-5357-4a06-bf0b-49945023ee6d"
      },
      "source": [
        "c = torch.stack([a, b], dim=0)\r\n",
        "c.shape"
      ],
      "execution_count": 55,
      "outputs": [
        {
          "output_type": "execute_result",
          "data": {
            "text/plain": [
              "torch.Size([2, 32, 8])"
            ]
          },
          "metadata": {
            "tags": []
          },
          "execution_count": 55
        }
      ]
    },
    {
      "cell_type": "code",
      "metadata": {
        "colab": {
          "base_uri": "https://localhost:8080/"
        },
        "id": "Oifj1XVm0XIW",
        "outputId": "da6a2681-db7f-4456-aebc-0b502606d594"
      },
      "source": [
        "aa, bb = c.split([1, 1], dim=0)\r\n",
        "aa.shape, bb.shape"
      ],
      "execution_count": 56,
      "outputs": [
        {
          "output_type": "execute_result",
          "data": {
            "text/plain": [
              "(torch.Size([1, 32, 8]), torch.Size([1, 32, 8]))"
            ]
          },
          "metadata": {
            "tags": []
          },
          "execution_count": 56
        }
      ]
    },
    {
      "cell_type": "code",
      "metadata": {
        "colab": {
          "base_uri": "https://localhost:8080/"
        },
        "id": "9RnfVj9j0g9A",
        "outputId": "f1236ebf-a82b-4b4f-c763-3e4058a787a7"
      },
      "source": [
        "aa, bb = c.split(1, dim=0) # 拆分成N块，每块长度为1\r\n",
        "aa.shape, bb.shape"
      ],
      "execution_count": 57,
      "outputs": [
        {
          "output_type": "execute_result",
          "data": {
            "text/plain": [
              "(torch.Size([1, 32, 8]), torch.Size([1, 32, 8]))"
            ]
          },
          "metadata": {
            "tags": []
          },
          "execution_count": 57
        }
      ]
    },
    {
      "cell_type": "code",
      "metadata": {
        "id": "goZZHo271Ftw"
      },
      "source": [
        "# aa, bb = c.split(2, dim=0) # ValueError: not enough values to unpack(expected 2, got 1)"
      ],
      "execution_count": 59,
      "outputs": []
    },
    {
      "cell_type": "markdown",
      "metadata": {
        "id": "7cg8k7nb9JpX"
      },
      "source": [
        "### chunk"
      ]
    },
    {
      "cell_type": "code",
      "metadata": {
        "colab": {
          "base_uri": "https://localhost:8080/"
        },
        "id": "gz-YbFfT1Zgs",
        "outputId": "c89932f1-82d9-45fe-f4de-6bb2f7b6441f"
      },
      "source": [
        "b = torch.rand(32, 8)\r\n",
        "a.shape"
      ],
      "execution_count": 60,
      "outputs": [
        {
          "output_type": "execute_result",
          "data": {
            "text/plain": [
              "torch.Size([32, 8])"
            ]
          },
          "metadata": {
            "tags": []
          },
          "execution_count": 60
        }
      ]
    },
    {
      "cell_type": "code",
      "metadata": {
        "colab": {
          "base_uri": "https://localhost:8080/"
        },
        "id": "tF7uKuET9qFt",
        "outputId": "bb0a1b7b-6635-4951-ebdb-2ec4755bd071"
      },
      "source": [
        "c = torch.stack([a, b], dim=0)\r\n",
        "c.shape"
      ],
      "execution_count": 61,
      "outputs": [
        {
          "output_type": "execute_result",
          "data": {
            "text/plain": [
              "torch.Size([2, 32, 8])"
            ]
          },
          "metadata": {
            "tags": []
          },
          "execution_count": 61
        }
      ]
    },
    {
      "cell_type": "code",
      "metadata": {
        "colab": {
          "base_uri": "https://localhost:8080/"
        },
        "id": "V88SMaJ09xgR",
        "outputId": "5f502499-ace3-46a9-a267-17cb270b8643"
      },
      "source": [
        "aa, bb = c.chunk(2, dim=0)\r\n",
        "aa.shape, bb.shape"
      ],
      "execution_count": 65,
      "outputs": [
        {
          "output_type": "execute_result",
          "data": {
            "text/plain": [
              "(torch.Size([1, 32, 8]), torch.Size([1, 32, 8]))"
            ]
          },
          "metadata": {
            "tags": []
          },
          "execution_count": 65
        }
      ]
    },
    {
      "cell_type": "markdown",
      "metadata": {
        "id": "VuSLeezO_OXH"
      },
      "source": [
        "## 3.数学运算"
      ]
    },
    {
      "cell_type": "markdown",
      "metadata": {
        "id": "Q4WaRbItB-d1"
      },
      "source": [
        "### 加减乘除"
      ]
    },
    {
      "cell_type": "code",
      "metadata": {
        "colab": {
          "base_uri": "https://localhost:8080/"
        },
        "id": "1ZsDmtHW_Q8U",
        "outputId": "873e8468-fb5a-48f0-f5e8-d0f48bf03357"
      },
      "source": [
        "a = torch.rand(3, 4)\r\n",
        "b = torch.rand(4)\r\n",
        "a, b"
      ],
      "execution_count": 67,
      "outputs": [
        {
          "output_type": "execute_result",
          "data": {
            "text/plain": [
              "(tensor([[0.0959, 0.6001, 0.4030, 0.7851],\n",
              "         [0.0390, 0.4698, 0.0845, 0.8910],\n",
              "         [0.8941, 0.9692, 0.9845, 0.0893]]),\n",
              " tensor([0.6872, 0.2317, 0.7131, 0.6929]))"
            ]
          },
          "metadata": {
            "tags": []
          },
          "execution_count": 67
        }
      ]
    },
    {
      "cell_type": "code",
      "metadata": {
        "colab": {
          "base_uri": "https://localhost:8080/"
        },
        "id": "zz90qYek_-bZ",
        "outputId": "f0815c2c-c7e3-47f5-b858-70dda6eaab2a"
      },
      "source": [
        "a + b"
      ],
      "execution_count": 68,
      "outputs": [
        {
          "output_type": "execute_result",
          "data": {
            "text/plain": [
              "tensor([[0.7832, 0.8318, 1.1161, 1.4780],\n",
              "        [0.7263, 0.7015, 0.7976, 1.5840],\n",
              "        [1.5813, 1.2009, 1.6976, 0.7822]])"
            ]
          },
          "metadata": {
            "tags": []
          },
          "execution_count": 68
        }
      ]
    },
    {
      "cell_type": "code",
      "metadata": {
        "colab": {
          "base_uri": "https://localhost:8080/"
        },
        "id": "rjAMSKb_ABNB",
        "outputId": "69271c8c-a75a-43fd-954a-130407d892d6"
      },
      "source": [
        "torch.add(a, b)"
      ],
      "execution_count": 69,
      "outputs": [
        {
          "output_type": "execute_result",
          "data": {
            "text/plain": [
              "tensor([[0.7832, 0.8318, 1.1161, 1.4780],\n",
              "        [0.7263, 0.7015, 0.7976, 1.5840],\n",
              "        [1.5813, 1.2009, 1.6976, 0.7822]])"
            ]
          },
          "metadata": {
            "tags": []
          },
          "execution_count": 69
        }
      ]
    },
    {
      "cell_type": "code",
      "metadata": {
        "colab": {
          "base_uri": "https://localhost:8080/"
        },
        "id": "4UJNjhAgAL4Y",
        "outputId": "ca5446b5-9126-4811-e948-212be9146e46"
      },
      "source": [
        "torch.all(torch.eq(a-b, torch.sub(a, b)))"
      ],
      "execution_count": 70,
      "outputs": [
        {
          "output_type": "execute_result",
          "data": {
            "text/plain": [
              "tensor(True)"
            ]
          },
          "metadata": {
            "tags": []
          },
          "execution_count": 70
        }
      ]
    },
    {
      "cell_type": "code",
      "metadata": {
        "colab": {
          "base_uri": "https://localhost:8080/"
        },
        "id": "0N67_tw2AYPU",
        "outputId": "684ba5ec-3100-4a8d-bc97-6f0ef7ca1501"
      },
      "source": [
        "torch.all(torch.eq(a*b, torch.mul(a, b)))"
      ],
      "execution_count": 72,
      "outputs": [
        {
          "output_type": "execute_result",
          "data": {
            "text/plain": [
              "tensor(True)"
            ]
          },
          "metadata": {
            "tags": []
          },
          "execution_count": 72
        }
      ]
    },
    {
      "cell_type": "code",
      "metadata": {
        "colab": {
          "base_uri": "https://localhost:8080/"
        },
        "id": "hHNpBcvBAe-G",
        "outputId": "a7d1b01f-d910-41b2-feb0-44fe58ec7800"
      },
      "source": [
        "torch.all(torch.eq(a/b, torch.div(a, b)))"
      ],
      "execution_count": 73,
      "outputs": [
        {
          "output_type": "execute_result",
          "data": {
            "text/plain": [
              "tensor(True)"
            ]
          },
          "metadata": {
            "tags": []
          },
          "execution_count": 73
        }
      ]
    },
    {
      "cell_type": "markdown",
      "metadata": {
        "id": "Tx5UWU00CHWC"
      },
      "source": [
        "### 矩阵相乘matmul"
      ]
    },
    {
      "cell_type": "code",
      "metadata": {
        "colab": {
          "base_uri": "https://localhost:8080/"
        },
        "id": "X6VUuLtjB1dB",
        "outputId": "06cd6230-ff63-484f-d82e-85d5701e1ac6"
      },
      "source": [
        "b = torch.ones(2, 2)\r\n",
        "b"
      ],
      "execution_count": 79,
      "outputs": [
        {
          "output_type": "execute_result",
          "data": {
            "text/plain": [
              "tensor([[1., 1.],\n",
              "        [1., 1.]])"
            ]
          },
          "metadata": {
            "tags": []
          },
          "execution_count": 79
        }
      ]
    },
    {
      "cell_type": "code",
      "metadata": {
        "colab": {
          "base_uri": "https://localhost:8080/"
        },
        "id": "_rQCVYSyCRql",
        "outputId": "1a1dab9d-0d12-448f-c6d3-db583e6c2761"
      },
      "source": [
        "a = b*3\r\n",
        "a"
      ],
      "execution_count": 80,
      "outputs": [
        {
          "output_type": "execute_result",
          "data": {
            "text/plain": [
              "tensor([[3., 3.],\n",
              "        [3., 3.]])"
            ]
          },
          "metadata": {
            "tags": []
          },
          "execution_count": 80
        }
      ]
    },
    {
      "cell_type": "code",
      "metadata": {
        "colab": {
          "base_uri": "https://localhost:8080/"
        },
        "id": "c-1vI70UCcda",
        "outputId": "249d1e5b-cc67-42d7-c2bc-8cb31fcf0048"
      },
      "source": [
        "torch.mm(a, b)"
      ],
      "execution_count": 81,
      "outputs": [
        {
          "output_type": "execute_result",
          "data": {
            "text/plain": [
              "tensor([[6., 6.],\n",
              "        [6., 6.]])"
            ]
          },
          "metadata": {
            "tags": []
          },
          "execution_count": 81
        }
      ]
    },
    {
      "cell_type": "code",
      "metadata": {
        "colab": {
          "base_uri": "https://localhost:8080/"
        },
        "id": "9q1FdDgaChIh",
        "outputId": "6db9d56e-00a2-44a7-c915-f576d182c247"
      },
      "source": [
        "torch.matmul(a, b)"
      ],
      "execution_count": 82,
      "outputs": [
        {
          "output_type": "execute_result",
          "data": {
            "text/plain": [
              "tensor([[6., 6.],\n",
              "        [6., 6.]])"
            ]
          },
          "metadata": {
            "tags": []
          },
          "execution_count": 82
        }
      ]
    },
    {
      "cell_type": "code",
      "metadata": {
        "colab": {
          "base_uri": "https://localhost:8080/"
        },
        "id": "gd2ODNg0CkCC",
        "outputId": "f6c220ee-b888-4a97-b5d2-4bff18876792"
      },
      "source": [
        "a@b"
      ],
      "execution_count": 83,
      "outputs": [
        {
          "output_type": "execute_result",
          "data": {
            "text/plain": [
              "tensor([[6., 6.],\n",
              "        [6., 6.]])"
            ]
          },
          "metadata": {
            "tags": []
          },
          "execution_count": 83
        }
      ]
    },
    {
      "cell_type": "code",
      "metadata": {
        "id": "5puqNdQNCmcV"
      },
      "source": [
        "a = torch.rand(4, 784)\r\n",
        "x = torch.rand(4, 784)\r\n",
        "w = torch.rand(512, 784) # (out, in)"
      ],
      "execution_count": 84,
      "outputs": []
    },
    {
      "cell_type": "code",
      "metadata": {
        "colab": {
          "base_uri": "https://localhost:8080/"
        },
        "id": "YVbF3btTDBox",
        "outputId": "c9b73c34-42a0-4515-c240-96d35afd89e9"
      },
      "source": [
        "(x@w.t()).shape #如果是高纬的使用transpose"
      ],
      "execution_count": 90,
      "outputs": [
        {
          "output_type": "execute_result",
          "data": {
            "text/plain": [
              "torch.Size([4, 512])"
            ]
          },
          "metadata": {
            "tags": []
          },
          "execution_count": 90
        }
      ]
    },
    {
      "cell_type": "markdown",
      "metadata": {
        "id": "uyDDvLmiD527"
      },
      "source": [
        "高纬矩阵相乘"
      ]
    },
    {
      "cell_type": "code",
      "metadata": {
        "id": "iPXv3a30DC_9"
      },
      "source": [
        "a = torch.rand(4, 3, 28, 64)\r\n",
        "b = torch.rand(4, 3, 64, 32)"
      ],
      "execution_count": 91,
      "outputs": []
    },
    {
      "cell_type": "code",
      "metadata": {
        "colab": {
          "base_uri": "https://localhost:8080/"
        },
        "id": "_1tJ_-v5EMNZ",
        "outputId": "72d9488d-f181-45ff-d341-f9a8d2520bc8"
      },
      "source": [
        "# torch.mm(a, b).shape\r\n",
        "torch.matmul(a, b).shape"
      ],
      "execution_count": 94,
      "outputs": [
        {
          "output_type": "execute_result",
          "data": {
            "text/plain": [
              "torch.Size([4, 3, 28, 32])"
            ]
          },
          "metadata": {
            "tags": []
          },
          "execution_count": 94
        }
      ]
    },
    {
      "cell_type": "code",
      "metadata": {
        "id": "Fc4MXnpLEPgw"
      },
      "source": [
        "b = torch.rand(4, 1, 64, 32)"
      ],
      "execution_count": 96,
      "outputs": []
    },
    {
      "cell_type": "code",
      "metadata": {
        "colab": {
          "base_uri": "https://localhost:8080/"
        },
        "id": "5lYjGsz7FVOW",
        "outputId": "8b87c397-b1b0-4dd4-ac59-121db95642f4"
      },
      "source": [
        "torch.matmul(a, b).shape"
      ],
      "execution_count": 97,
      "outputs": [
        {
          "output_type": "execute_result",
          "data": {
            "text/plain": [
              "torch.Size([4, 3, 28, 32])"
            ]
          },
          "metadata": {
            "tags": []
          },
          "execution_count": 97
        }
      ]
    },
    {
      "cell_type": "code",
      "metadata": {
        "id": "B03RbWB2Fhst"
      },
      "source": [
        "# b = torch.rand(4, 64, 32)\r\n",
        "# torch.matmul(a, b).shape"
      ],
      "execution_count": 100,
      "outputs": []
    },
    {
      "cell_type": "markdown",
      "metadata": {
        "id": "075cmSRvGAyZ"
      },
      "source": [
        "### power"
      ]
    },
    {
      "cell_type": "code",
      "metadata": {
        "colab": {
          "base_uri": "https://localhost:8080/"
        },
        "id": "2mvbHYwAFuuE",
        "outputId": "cd278fbc-39c7-4427-e3f8-12f6231a5f4a"
      },
      "source": [
        "a = torch.full([2, 3], 3)\r\n",
        "a"
      ],
      "execution_count": 101,
      "outputs": [
        {
          "output_type": "execute_result",
          "data": {
            "text/plain": [
              "tensor([[3, 3, 3],\n",
              "        [3, 3, 3]])"
            ]
          },
          "metadata": {
            "tags": []
          },
          "execution_count": 101
        }
      ]
    },
    {
      "cell_type": "code",
      "metadata": {
        "colab": {
          "base_uri": "https://localhost:8080/"
        },
        "id": "GBXs6f0KGaCW",
        "outputId": "5d078149-2519-4a06-ba00-85e45df1b950"
      },
      "source": [
        "a.pow(2)"
      ],
      "execution_count": 102,
      "outputs": [
        {
          "output_type": "execute_result",
          "data": {
            "text/plain": [
              "tensor([[9, 9, 9],\n",
              "        [9, 9, 9]])"
            ]
          },
          "metadata": {
            "tags": []
          },
          "execution_count": 102
        }
      ]
    },
    {
      "cell_type": "code",
      "metadata": {
        "colab": {
          "base_uri": "https://localhost:8080/"
        },
        "id": "nqrFPI5gGcnZ",
        "outputId": "3d5e311e-4459-4163-941b-331f876cb76d"
      },
      "source": [
        "a**2"
      ],
      "execution_count": 103,
      "outputs": [
        {
          "output_type": "execute_result",
          "data": {
            "text/plain": [
              "tensor([[9, 9, 9],\n",
              "        [9, 9, 9]])"
            ]
          },
          "metadata": {
            "tags": []
          },
          "execution_count": 103
        }
      ]
    },
    {
      "cell_type": "code",
      "metadata": {
        "colab": {
          "base_uri": "https://localhost:8080/"
        },
        "id": "eMLn3sxvGd3Y",
        "outputId": "6202cac3-afb6-4469-d7b3-d9dbe2bb9cab"
      },
      "source": [
        "aa = a**2\r\n",
        "aa"
      ],
      "execution_count": 107,
      "outputs": [
        {
          "output_type": "execute_result",
          "data": {
            "text/plain": [
              "tensor([[9, 9, 9],\n",
              "        [9, 9, 9]])"
            ]
          },
          "metadata": {
            "tags": []
          },
          "execution_count": 107
        }
      ]
    },
    {
      "cell_type": "code",
      "metadata": {
        "colab": {
          "base_uri": "https://localhost:8080/",
          "height": 35
        },
        "id": "JUcaOEcDG4Hq",
        "outputId": "234db380-a56f-491f-b241-75d0f99b539f"
      },
      "source": [
        "aa.type()"
      ],
      "execution_count": 114,
      "outputs": [
        {
          "output_type": "execute_result",
          "data": {
            "application/vnd.google.colaboratory.intrinsic+json": {
              "type": "string"
            },
            "text/plain": [
              "'torch.LongTensor'"
            ]
          },
          "metadata": {
            "tags": []
          },
          "execution_count": 114
        }
      ]
    },
    {
      "cell_type": "code",
      "metadata": {
        "id": "yukH3onoGf5z"
      },
      "source": [
        "# aa.sqrt()"
      ],
      "execution_count": 119,
      "outputs": []
    },
    {
      "cell_type": "code",
      "metadata": {
        "id": "_D5DDANrGmDm"
      },
      "source": [
        "# aa.rsqrt()"
      ],
      "execution_count": 121,
      "outputs": []
    },
    {
      "cell_type": "code",
      "metadata": {
        "colab": {
          "base_uri": "https://localhost:8080/"
        },
        "id": "Shx8mp_jGtvB",
        "outputId": "371b7f20-16d6-4c41-975a-03fb12ffa7a3"
      },
      "source": [
        "aa ** 0.5"
      ],
      "execution_count": 123,
      "outputs": [
        {
          "output_type": "execute_result",
          "data": {
            "text/plain": [
              "tensor([[3., 3., 3.],\n",
              "        [3., 3., 3.]])"
            ]
          },
          "metadata": {
            "tags": []
          },
          "execution_count": 123
        }
      ]
    },
    {
      "cell_type": "markdown",
      "metadata": {
        "id": "jgZsb0HGI1AF"
      },
      "source": [
        "### exp and log"
      ]
    },
    {
      "cell_type": "code",
      "metadata": {
        "colab": {
          "base_uri": "https://localhost:8080/"
        },
        "id": "vxYLY64QIYGv",
        "outputId": "b24cdcbd-e804-42ce-93d3-21ba4bf468f9"
      },
      "source": [
        "a = torch.exp(torch.ones(2, 2))\r\n",
        "a"
      ],
      "execution_count": 124,
      "outputs": [
        {
          "output_type": "execute_result",
          "data": {
            "text/plain": [
              "tensor([[2.7183, 2.7183],\n",
              "        [2.7183, 2.7183]])"
            ]
          },
          "metadata": {
            "tags": []
          },
          "execution_count": 124
        }
      ]
    },
    {
      "cell_type": "code",
      "metadata": {
        "colab": {
          "base_uri": "https://localhost:8080/"
        },
        "id": "zzKBkQBuIqsu",
        "outputId": "15f30add-83e4-4e91-e5e5-c8a60f221f70"
      },
      "source": [
        "torch.log(a)"
      ],
      "execution_count": 125,
      "outputs": [
        {
          "output_type": "execute_result",
          "data": {
            "text/plain": [
              "tensor([[1., 1.],\n",
              "        [1., 1.]])"
            ]
          },
          "metadata": {
            "tags": []
          },
          "execution_count": 125
        }
      ]
    },
    {
      "cell_type": "markdown",
      "metadata": {
        "id": "uIP6qVMqI4av"
      },
      "source": [
        "### 近似值 Approximation\r\n",
        "* floor().ceil()\r\n",
        "* round()\r\n",
        "* trunc().frac()"
      ]
    },
    {
      "cell_type": "code",
      "metadata": {
        "colab": {
          "base_uri": "https://localhost:8080/"
        },
        "id": "s0LJq7QYIxYX",
        "outputId": "7272e7b7-b20d-4471-a28d-f33665fc25c6"
      },
      "source": [
        "a = torch.tensor(3.14)\r\n",
        "a"
      ],
      "execution_count": 126,
      "outputs": [
        {
          "output_type": "execute_result",
          "data": {
            "text/plain": [
              "tensor(3.1400)"
            ]
          },
          "metadata": {
            "tags": []
          },
          "execution_count": 126
        }
      ]
    },
    {
      "cell_type": "code",
      "metadata": {
        "colab": {
          "base_uri": "https://localhost:8080/"
        },
        "id": "auhhXIMpJeff",
        "outputId": "0b46bc67-9c98-4a8d-a234-811a9c4c2928"
      },
      "source": [
        "a.floor(), a.ceil(), a.trunc(), a.frac()"
      ],
      "execution_count": 127,
      "outputs": [
        {
          "output_type": "execute_result",
          "data": {
            "text/plain": [
              "(tensor(3.), tensor(4.), tensor(3.), tensor(0.1400))"
            ]
          },
          "metadata": {
            "tags": []
          },
          "execution_count": 127
        }
      ]
    },
    {
      "cell_type": "code",
      "metadata": {
        "colab": {
          "base_uri": "https://localhost:8080/"
        },
        "id": "5EBL4t8NJjC_",
        "outputId": "f293918a-8bff-4abe-a0a0-31965caa51c1"
      },
      "source": [
        "a = torch.tensor(3.499)\r\n",
        "a.round()"
      ],
      "execution_count": 128,
      "outputs": [
        {
          "output_type": "execute_result",
          "data": {
            "text/plain": [
              "tensor(3.)"
            ]
          },
          "metadata": {
            "tags": []
          },
          "execution_count": 128
        }
      ]
    },
    {
      "cell_type": "code",
      "metadata": {
        "colab": {
          "base_uri": "https://localhost:8080/"
        },
        "id": "LFu4YGY8Jrmg",
        "outputId": "31fc40a6-3825-4b8c-aa88-5d3bdb5e2c41"
      },
      "source": [
        "a = torch.tensor(3.5)\r\n",
        "a.round()"
      ],
      "execution_count": 130,
      "outputs": [
        {
          "output_type": "execute_result",
          "data": {
            "text/plain": [
              "tensor(4.)"
            ]
          },
          "metadata": {
            "tags": []
          },
          "execution_count": 130
        }
      ]
    },
    {
      "cell_type": "markdown",
      "metadata": {
        "id": "aCGXUdVjJ6rR"
      },
      "source": [
        "### clamp\r\n",
        "裁剪功能，梯度离散和梯度爆炸\r\n",
        "\r\n",
        "train不稳定时，打印梯度的模\r\n",
        "\r\n",
        "w.grad.norm(2)"
      ]
    },
    {
      "cell_type": "code",
      "metadata": {
        "colab": {
          "base_uri": "https://localhost:8080/"
        },
        "id": "gBJv4dzOJv4c",
        "outputId": "c9d43daf-e381-4f9b-a301-91df6fd7c2eb"
      },
      "source": [
        "grad = torch.rand(2, 3)*15\r\n",
        "grad.max()"
      ],
      "execution_count": 138,
      "outputs": [
        {
          "output_type": "execute_result",
          "data": {
            "text/plain": [
              "tensor(14.3433)"
            ]
          },
          "metadata": {
            "tags": []
          },
          "execution_count": 138
        }
      ]
    },
    {
      "cell_type": "code",
      "metadata": {
        "colab": {
          "base_uri": "https://localhost:8080/"
        },
        "id": "FJ8tX6oTKf4A",
        "outputId": "6014bb07-dce3-43f5-9dda-5f081ed9b9c1"
      },
      "source": [
        "grad.median()"
      ],
      "execution_count": 139,
      "outputs": [
        {
          "output_type": "execute_result",
          "data": {
            "text/plain": [
              "tensor(8.4997)"
            ]
          },
          "metadata": {
            "tags": []
          },
          "execution_count": 139
        }
      ]
    },
    {
      "cell_type": "code",
      "metadata": {
        "colab": {
          "base_uri": "https://localhost:8080/"
        },
        "id": "nKHtx3G-Kogo",
        "outputId": "253f7fc7-c77c-4846-d34d-9e3ae2e33bbe"
      },
      "source": [
        "grad.clamp(10) # 小于10的赋值为10"
      ],
      "execution_count": 140,
      "outputs": [
        {
          "output_type": "execute_result",
          "data": {
            "text/plain": [
              "tensor([[10.0000, 13.0912, 14.3433],\n",
              "        [10.0000, 10.0000, 12.2009]])"
            ]
          },
          "metadata": {
            "tags": []
          },
          "execution_count": 140
        }
      ]
    },
    {
      "cell_type": "code",
      "metadata": {
        "colab": {
          "base_uri": "https://localhost:8080/"
        },
        "id": "-fhnpUqUKqYR",
        "outputId": "1e30ce04-2c09-409c-9dc1-72d2d21bf6bb"
      },
      "source": [
        "grad"
      ],
      "execution_count": 136,
      "outputs": [
        {
          "output_type": "execute_result",
          "data": {
            "text/plain": [
              "tensor([[ 7.2440,  6.6741, 11.2324],\n",
              "        [ 9.2214,  0.7991,  4.2448]])"
            ]
          },
          "metadata": {
            "tags": []
          },
          "execution_count": 136
        }
      ]
    },
    {
      "cell_type": "code",
      "metadata": {
        "colab": {
          "base_uri": "https://localhost:8080/"
        },
        "id": "jUe6JMNMKsY0",
        "outputId": "6e893d90-ec40-44d1-d885-4971000e1187"
      },
      "source": [
        "grad.clamp(0, 10) # 0到10之间"
      ],
      "execution_count": 137,
      "outputs": [
        {
          "output_type": "execute_result",
          "data": {
            "text/plain": [
              "tensor([[ 7.2440,  6.6741, 10.0000],\n",
              "        [ 9.2214,  0.7991,  4.2448]])"
            ]
          },
          "metadata": {
            "tags": []
          },
          "execution_count": 137
        }
      ]
    },
    {
      "cell_type": "markdown",
      "metadata": {
        "id": "FJz5XBnbQ6mq"
      },
      "source": [
        "## 4.统计属性\r\n",
        "* norm \r\n",
        "* mean sum\r\n",
        "* prod\r\n",
        "* max, min, argmin, argmax(最大最小值的位置)\r\n",
        "* kthvalue, topk"
      ]
    },
    {
      "cell_type": "code",
      "metadata": {
        "id": "bpwOuvVBKxKk"
      },
      "source": [
        ""
      ],
      "execution_count": null,
      "outputs": []
    }
  ]
}