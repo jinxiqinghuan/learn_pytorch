{
  "nbformat": 4,
  "nbformat_minor": 0,
  "metadata": {
    "colab": {
      "name": "深度学习入门（斋藤康毅）.ipynb",
      "provenance": [],
      "collapsed_sections": [],
      "toc_visible": true,
      "authorship_tag": "ABX9TyPSwFOTlvzPaaRJ8SLllFqw",
      "include_colab_link": true
    },
    "kernelspec": {
      "name": "python3",
      "display_name": "Python 3"
    }
  },
  "cells": [
    {
      "cell_type": "markdown",
      "metadata": {
        "id": "view-in-github",
        "colab_type": "text"
      },
      "source": [
        "<a href=\"https://colab.research.google.com/github/jinxiqinghuan/learn_pytorch/blob/main/%E9%BE%99%E6%9B%B2%E8%89%AF%E8%80%81%E5%B8%88%E8%AF%BE%E7%A8%8B%E7%AC%94%E8%AE%B0/%E6%B7%B1%E5%BA%A6%E5%AD%A6%E4%B9%A0%E5%85%A5%E9%97%A8%EF%BC%88%E6%96%8B%E8%97%A4%E5%BA%B7%E6%AF%85%EF%BC%89.ipynb\" target=\"_parent\"><img src=\"https://colab.research.google.com/assets/colab-badge.svg\" alt=\"Open In Colab\"/></a>"
      ]
    },
    {
      "cell_type": "markdown",
      "metadata": {
        "id": "K9WxEjgcti5J"
      },
      "source": [
        "# 深度学习入门：基于Python的理论与实现"
      ]
    },
    {
      "cell_type": "code",
      "metadata": {
        "id": "e8etck1pu5Yx"
      },
      "source": [
        "import numpy as np\r\n",
        "import matplotlib.pylab as plt"
      ],
      "execution_count": null,
      "outputs": []
    },
    {
      "cell_type": "markdown",
      "metadata": {
        "id": "l2zQ4ENMttAo"
      },
      "source": [
        "## 第二章 感知机"
      ]
    },
    {
      "cell_type": "code",
      "metadata": {
        "id": "tNYatjcttYt6"
      },
      "source": [
        "# 与门\r\n",
        "def AND(x1, x2):\r\n",
        "  w1, w2, theta = 0.5, 0.5, 0.7\r\n",
        "  tmp = x1*w1 + x2*w2\r\n",
        "  if tmp <= theta:\r\n",
        "    return 0\r\n",
        "  elif tmp > theta:\r\n",
        "    return 1\r\n",
        " "
      ],
      "execution_count": null,
      "outputs": []
    },
    {
      "cell_type": "code",
      "metadata": {
        "colab": {
          "base_uri": "https://localhost:8080/"
        },
        "id": "Umov0xXouaI1",
        "outputId": "51871aa2-bed8-42f2-d5e4-d38349ac32b9"
      },
      "source": [
        "(AND(0, 0),AND(1, 0),AND(0, 1),AND(1, 1))"
      ],
      "execution_count": null,
      "outputs": [
        {
          "output_type": "execute_result",
          "data": {
            "text/plain": [
              "(0, 0, 0, 1)"
            ]
          },
          "metadata": {
            "tags": []
          },
          "execution_count": 8
        }
      ]
    },
    {
      "cell_type": "code",
      "metadata": {
        "id": "dvW2TZJau14U"
      },
      "source": [
        "x = np.array([0, 1])\r\n",
        "w = np.array([0.5, 0.5])\r\n",
        "b = -0.7"
      ],
      "execution_count": null,
      "outputs": []
    },
    {
      "cell_type": "code",
      "metadata": {
        "colab": {
          "base_uri": "https://localhost:8080/"
        },
        "id": "376HYweJvEyz",
        "outputId": "11bd3684-543b-406a-9ac3-1ca52ac16fa9"
      },
      "source": [
        "w*x"
      ],
      "execution_count": null,
      "outputs": [
        {
          "output_type": "execute_result",
          "data": {
            "text/plain": [
              "array([0. , 0.5])"
            ]
          },
          "metadata": {
            "tags": []
          },
          "execution_count": 13
        }
      ]
    },
    {
      "cell_type": "code",
      "metadata": {
        "colab": {
          "base_uri": "https://localhost:8080/"
        },
        "id": "Om9sY0_fvGIB",
        "outputId": "c35335a1-c6f4-47f9-df7b-4ad8ec1b35bd"
      },
      "source": [
        "np.sum(w*x) + b"
      ],
      "execution_count": null,
      "outputs": [
        {
          "output_type": "execute_result",
          "data": {
            "text/plain": [
              "-0.19999999999999996"
            ]
          },
          "metadata": {
            "tags": []
          },
          "execution_count": 14
        }
      ]
    },
    {
      "cell_type": "markdown",
      "metadata": {
        "id": "_WacQ_7SwEVu"
      },
      "source": [
        "这里把−θ命名为偏置b，但是请注意，偏置和权重w1、 w2的作用是不\r\n",
        "一样的。具体地说， w1和w2是控制输入信号的重要性的参数，而偏置是调\r\n",
        "整神经元被激活的容易程度（输出信号为1的程度）的参数"
      ]
    },
    {
      "cell_type": "code",
      "metadata": {
        "id": "EoNMKTrkvL_E"
      },
      "source": [
        "def AND(x1, x2):\r\n",
        "  x = np.array([x1, x2])\r\n",
        "  w = np.array([0.5, 0.5])\r\n",
        "  b = -0.7\r\n",
        "  tmp = np.sum(w*x) + b\r\n",
        "  if tmp <= 0:\r\n",
        "    return 0\r\n",
        "  else:\r\n",
        "    return 1"
      ],
      "execution_count": null,
      "outputs": []
    },
    {
      "cell_type": "code",
      "metadata": {
        "colab": {
          "base_uri": "https://localhost:8080/"
        },
        "id": "LFwBMdH1vzMl",
        "outputId": "ecd85a33-d134-4fe8-eb3a-2d19ec56987c"
      },
      "source": [
        "(AND(0, 0),AND(1, 0),AND(0, 1),AND(1, 1))"
      ],
      "execution_count": null,
      "outputs": [
        {
          "output_type": "execute_result",
          "data": {
            "text/plain": [
              "(0, 0, 0, 1)"
            ]
          },
          "metadata": {
            "tags": []
          },
          "execution_count": 28
        }
      ]
    },
    {
      "cell_type": "code",
      "metadata": {
        "id": "-cWJyQ7Dv1TZ"
      },
      "source": [
        "# 非门\r\n",
        "def NAND(x1, x2):\r\n",
        "  x = np.array([x1, x2])\r\n",
        "  w = np.array([-0.5, -0.5]) # 仅权重和偏置与AND不同\r\n",
        "  b = 0.7\r\n",
        "  tmp = np.sum(w*x) + b\r\n",
        "  if tmp <= 0:\r\n",
        "    return 0\r\n",
        "  else:\r\n",
        "    return 1"
      ],
      "execution_count": null,
      "outputs": []
    },
    {
      "cell_type": "code",
      "metadata": {
        "colab": {
          "base_uri": "https://localhost:8080/"
        },
        "id": "T-01SoNoxJvr",
        "outputId": "56ad17a8-70a1-4613-9f7b-fa2d4b28d1d1"
      },
      "source": [
        "(NAND(0, 0), NAND(1, 0), NAND(0, 1), NAND(1, 1))"
      ],
      "execution_count": null,
      "outputs": [
        {
          "output_type": "execute_result",
          "data": {
            "text/plain": [
              "(1, 1, 1, 0)"
            ]
          },
          "metadata": {
            "tags": []
          },
          "execution_count": 31
        }
      ]
    },
    {
      "cell_type": "code",
      "metadata": {
        "id": "rUhONvpdxV23"
      },
      "source": [
        "# 或门\r\n",
        "def OR(x1, x2):\r\n",
        "  x = np.array([x1, x2])\r\n",
        "  w = np.array([0.5, 0.5])\r\n",
        "  b = -0.2\r\n",
        "  tmp = np.sum(w*x) + b\r\n",
        "  if tmp <= 0:\r\n",
        "    return 0\r\n",
        "  else:\r\n",
        "    return 1 "
      ],
      "execution_count": null,
      "outputs": []
    },
    {
      "cell_type": "code",
      "metadata": {
        "colab": {
          "base_uri": "https://localhost:8080/"
        },
        "id": "ITC2KgEqx349",
        "outputId": "dc590a12-dece-4ac2-cb5a-e26d8c7f4a36"
      },
      "source": [
        "(OR(0, 0), OR(1, 0), OR(0, 1), OR(1, 1))"
      ],
      "execution_count": null,
      "outputs": [
        {
          "output_type": "execute_result",
          "data": {
            "text/plain": [
              "(0, 1, 1, 1)"
            ]
          },
          "metadata": {
            "tags": []
          },
          "execution_count": 33
        }
      ]
    },
    {
      "cell_type": "code",
      "metadata": {
        "id": "oNSZCj6Px9Ih"
      },
      "source": [
        "# 异或门\r\n",
        "# 单层感知机不能实现异或门，只能采用多层感知机来实现\r\n",
        "def XOR(x1, x2):\r\n",
        "  s1 = NAND(x1, x2)\r\n",
        "  s2 = OR(x1, x2)\r\n",
        "  y = AND(s1, s2)\r\n",
        "  return y"
      ],
      "execution_count": null,
      "outputs": []
    },
    {
      "cell_type": "code",
      "metadata": {
        "colab": {
          "base_uri": "https://localhost:8080/"
        },
        "id": "QIC5GB3-ykbA",
        "outputId": "7445766a-d21d-4247-92e9-365b95f9fea2"
      },
      "source": [
        "(XOR(0, 0), XOR(1, 0), XOR(0, 1), XOR(1, 1))"
      ],
      "execution_count": null,
      "outputs": [
        {
          "output_type": "execute_result",
          "data": {
            "text/plain": [
              "(0, 1, 1, 0)"
            ]
          },
          "metadata": {
            "tags": []
          },
          "execution_count": 36
        }
      ]
    },
    {
      "cell_type": "markdown",
      "metadata": {
        "id": "W4odfjPE3sct"
      },
      "source": [
        "## 第三章 神经网络"
      ]
    },
    {
      "cell_type": "code",
      "metadata": {
        "id": "gGwgYWfHy0_q"
      },
      "source": [
        "# 阶跃函数\r\n",
        "def step_function(x):\r\n",
        "  return np.array(x>0, dtype=np.int)"
      ],
      "execution_count": null,
      "outputs": []
    },
    {
      "cell_type": "code",
      "metadata": {
        "colab": {
          "base_uri": "https://localhost:8080/",
          "height": 281
        },
        "id": "fvdZs0hL2b2j",
        "outputId": "1fd99f89-2470-4145-9cd9-e4ac169384c1"
      },
      "source": [
        "x = np.arange(-5.0, 5.0, 0.1)\r\n",
        "y = step_function(x)\r\n",
        "plt.title('step_function')\r\n",
        "plt.plot(x, y)\r\n",
        "plt.ylim(-0.1, 1.1)\r\n",
        "plt.show()"
      ],
      "execution_count": null,
      "outputs": [
        {
          "output_type": "display_data",
          "data": {
            "image/png": "[encoded data removed]",
            "text/plain": [
              "<Figure size 432x288 with 1 Axes>"
            ]
          },
          "metadata": {
            "tags": [],
            "needs_background": "light"
          }
        }
      ]
    },
    {
      "cell_type": "code",
      "metadata": {
        "colab": {
          "base_uri": "https://localhost:8080/"
        },
        "id": "XsRaXISl3D-W",
        "outputId": "c0131f70-df6f-4786-8e60-883480c8c609"
      },
      "source": [
        "x = np.arange(-5.0, 5.0, 0.1)\r\n",
        "x.shape"
      ],
      "execution_count": null,
      "outputs": [
        {
          "output_type": "execute_result",
          "data": {
            "text/plain": [
              "(100,)"
            ]
          },
          "metadata": {
            "tags": []
          },
          "execution_count": 46
        }
      ]
    },
    {
      "cell_type": "code",
      "metadata": {
        "colab": {
          "base_uri": "https://localhost:8080/"
        },
        "id": "3CDzxgBh3TKj",
        "outputId": "c6bb6640-f9e0-4461-f8ae-2ae7055d3a6a"
      },
      "source": [
        "np.array(x>0, dtype=np.int)"
      ],
      "execution_count": null,
      "outputs": [
        {
          "output_type": "execute_result",
          "data": {
            "text/plain": [
              "array([0, 0, 0, 0, 0, 0, 0, 0, 0, 0, 0, 0, 0, 0, 0, 0, 0, 0, 0, 0, 0, 0,\n",
              "       0, 0, 0, 0, 0, 0, 0, 0, 0, 0, 0, 0, 0, 0, 0, 0, 0, 0, 0, 0, 0, 0,\n",
              "       0, 0, 0, 0, 0, 0, 0, 1, 1, 1, 1, 1, 1, 1, 1, 1, 1, 1, 1, 1, 1, 1,\n",
              "       1, 1, 1, 1, 1, 1, 1, 1, 1, 1, 1, 1, 1, 1, 1, 1, 1, 1, 1, 1, 1, 1,\n",
              "       1, 1, 1, 1, 1, 1, 1, 1, 1, 1, 1, 1])"
            ]
          },
          "metadata": {
            "tags": []
          },
          "execution_count": 47
        }
      ]
    },
    {
      "cell_type": "code",
      "metadata": {
        "id": "2TIOP9243bCi"
      },
      "source": [
        "# sigmoid函数\r\n",
        "def sigmoid(x):\r\n",
        "  return 1 / (1 + np.exp(-x))"
      ],
      "execution_count": null,
      "outputs": []
    },
    {
      "cell_type": "code",
      "metadata": {
        "colab": {
          "base_uri": "https://localhost:8080/"
        },
        "id": "F4gVI2sj32aF",
        "outputId": "e4bc0015-f2f2-4675-db9e-5e08b0541432"
      },
      "source": [
        "x = np.array([-1.0, 1.0, 2.0])\r\n",
        "sigmoid(x)"
      ],
      "execution_count": null,
      "outputs": [
        {
          "output_type": "execute_result",
          "data": {
            "text/plain": [
              "array([0.26894142, 0.73105858, 0.88079708])"
            ]
          },
          "metadata": {
            "tags": []
          },
          "execution_count": 51
        }
      ]
    },
    {
      "cell_type": "code",
      "metadata": {
        "colab": {
          "base_uri": "https://localhost:8080/",
          "height": 281
        },
        "id": "0bZOtqph4NOk",
        "outputId": "56b44d1b-8abe-445f-ea45-801f5876c6c1"
      },
      "source": [
        "x = np.arange(-5.0, 5.0, 0.1)\r\n",
        "y = sigmoid(x)\r\n",
        "plt.title('sigmoid')\r\n",
        "plt.plot(x, y)\r\n",
        "plt.ylim(-0.1, 1.1)\r\n",
        "plt.show()"
      ],
      "execution_count": null,
      "outputs": [
        {
          "output_type": "display_data",
          "data": {
            "image/png": "[encoded data removed]",
            "text/plain": [
              "<Figure size 432x288 with 1 Axes>"
            ]
          },
          "metadata": {
            "tags": [],
            "needs_background": "light"
          }
        }
      ]
    },
    {
      "cell_type": "code",
      "metadata": {
        "id": "HoALp9Wl4rWm"
      },
      "source": [
        ""
      ],
      "execution_count": null,
      "outputs": []
    }
  ]
}