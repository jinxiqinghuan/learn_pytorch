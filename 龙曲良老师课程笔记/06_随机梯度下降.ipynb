{
  "nbformat": 4,
  "nbformat_minor": 0,
  "metadata": {
    "colab": {
      "name": "龙曲良老师课程笔记/06_随机梯度下降.ipynb",
      "provenance": [],
      "collapsed_sections": [],
      "toc_visible": true,
      "authorship_tag": "ABX9TyMbpfyYzhf8uoG0G/t10wyK",
      "include_colab_link": true
    },
    "kernelspec": {
      "display_name": "Python 3",
      "name": "python3"
    }
  },
  "cells": [
    {
      "cell_type": "markdown",
      "metadata": {
        "id": "view-in-github",
        "colab_type": "text"
      },
      "source": [
        "<a href=\"https://colab.research.google.com/github/jinxiqinghuan/learn_pytorch/blob/main/%E9%BE%99%E6%9B%B2%E8%89%AF%E8%80%81%E5%B8%88%E8%AF%BE%E7%A8%8B%E7%AC%94%E8%AE%B0/06_%E9%9A%8F%E6%9C%BA%E6%A2%AF%E5%BA%A6%E4%B8%8B%E9%99%8D.ipynb\" target=\"_parent\"><img src=\"https://colab.research.google.com/assets/colab-badge.svg\" alt=\"Open In Colab\"/></a>"
      ]
    },
    {
      "cell_type": "markdown",
      "metadata": {
        "id": "EMwuo2yPt5cx"
      },
      "source": [
        "# 06. 随机梯度下降"
      ]
    },
    {
      "cell_type": "code",
      "metadata": {
        "id": "jSpk2bb4uSJs"
      },
      "source": [
        "import torch\r\n",
        "from torch.nn import functional as F\r\n",
        "from matplotlib import pyplot as plt\r\n",
        "import numpy as np"
      ],
      "execution_count": 2,
      "outputs": []
    },
    {
      "cell_type": "markdown",
      "metadata": {
        "id": "LXDRKDFluI9V"
      },
      "source": [
        "## 激活函数与loss的梯度"
      ]
    },
    {
      "cell_type": "markdown",
      "metadata": {
        "id": "5CJ88cs6xKk8"
      },
      "source": [
        "### 激活函数\r\n",
        "* sigmoid\r\n",
        "* tanh\r\n",
        "* relu"
      ]
    },
    {
      "cell_type": "code",
      "metadata": {
        "id": "Fb15cYIst_EK"
      },
      "source": [
        "a = torch.linspace(-5, 5, 100)"
      ],
      "execution_count": null,
      "outputs": []
    },
    {
      "cell_type": "code",
      "metadata": {
        "colab": {
          "base_uri": "https://localhost:8080/"
        },
        "id": "y1-PN7XHueeP",
        "outputId": "c1957b36-f5c5-47b0-e132-2f7695279bfe"
      },
      "source": [
        "torch.sigmoid(a)"
      ],
      "execution_count": null,
      "outputs": [
        {
          "output_type": "execute_result",
          "data": {
            "text/plain": [
              "tensor([0.0067, 0.0074, 0.0082, 0.0090, 0.0100, 0.0110, 0.0122, 0.0135, 0.0149,\n",
              "        0.0164, 0.0182, 0.0201, 0.0221, 0.0244, 0.0270, 0.0297, 0.0328, 0.0362,\n",
              "        0.0399, 0.0439, 0.0483, 0.0532, 0.0585, 0.0644, 0.0707, 0.0776, 0.0852,\n",
              "        0.0934, 0.1023, 0.1120, 0.1224, 0.1337, 0.1458, 0.1589, 0.1728, 0.1878,\n",
              "        0.2036, 0.2205, 0.2384, 0.2572, 0.2770, 0.2976, 0.3192, 0.3415, 0.3646,\n",
              "        0.3883, 0.4125, 0.4372, 0.4622, 0.4874, 0.5126, 0.5378, 0.5628, 0.5875,\n",
              "        0.6117, 0.6354, 0.6585, 0.6808, 0.7024, 0.7230, 0.7428, 0.7616, 0.7795,\n",
              "        0.7964, 0.8122, 0.8272, 0.8411, 0.8542, 0.8663, 0.8776, 0.8880, 0.8977,\n",
              "        0.9066, 0.9148, 0.9224, 0.9293, 0.9356, 0.9415, 0.9468, 0.9517, 0.9561,\n",
              "        0.9601, 0.9638, 0.9672, 0.9703, 0.9730, 0.9756, 0.9779, 0.9799, 0.9818,\n",
              "        0.9836, 0.9851, 0.9865, 0.9878, 0.9890, 0.9900, 0.9910, 0.9918, 0.9926,\n",
              "        0.9933])"
            ]
          },
          "metadata": {
            "tags": []
          },
          "execution_count": 32
        }
      ]
    },
    {
      "cell_type": "code",
      "metadata": {
        "colab": {
          "base_uri": "https://localhost:8080/",
          "height": 312
        },
        "id": "bC2VRKsFv3pv",
        "outputId": "54dfb4f4-da23-41dd-e863-30d8366d89c2"
      },
      "source": [
        "plt.figure('sigmlid')\r\n",
        "plt.plot(a, torch.sigmoid(a))\r\n",
        "plt.suptitle('sigmoid', fontsize=20)\r\n",
        "plt.show"
      ],
      "execution_count": null,
      "outputs": [
        {
          "output_type": "execute_result",
          "data": {
            "text/plain": [
              "<function matplotlib.pyplot.show>"
            ]
          },
          "metadata": {
            "tags": []
          },
          "execution_count": 33
        },
        {
          "output_type": "display_data",
          "data": {
            "image/png": "[encoded data removed]",
            "text/plain": [
              "<Figure size 432x288 with 1 Axes>"
            ]
          },
          "metadata": {
            "tags": []
          }
        }
      ]
    },
    {
      "cell_type": "code",
      "metadata": {
        "colab": {
          "base_uri": "https://localhost:8080/",
          "height": 312
        },
        "id": "FORkKxkNuzlU",
        "outputId": "df642b34-cfb4-4b77-d7d4-34325be03879"
      },
      "source": [
        "a = torch.linspace(-5, 5, 100)\r\n",
        "torch.tanh(a)\r\n",
        "plt.plot(a, torch.tanh(a))\r\n",
        "plt.suptitle('tanh', fontsize=20)\r\n"
      ],
      "execution_count": null,
      "outputs": [
        {
          "output_type": "execute_result",
          "data": {
            "text/plain": [
              "Text(0.5, 0.98, 'tanh')"
            ]
          },
          "metadata": {
            "tags": []
          },
          "execution_count": 34
        },
        {
          "output_type": "display_data",
          "data": {
            "image/png": "[encoded data removed]",
            "text/plain": [
              "<Figure size 432x288 with 1 Axes>"
            ]
          },
          "metadata": {
            "tags": []
          }
        }
      ]
    },
    {
      "cell_type": "code",
      "metadata": {
        "colab": {
          "base_uri": "https://localhost:8080/",
          "height": 312
        },
        "id": "yI3mMoRrujIJ",
        "outputId": "5fe1dafd-b865-49e3-b2dd-67717b558153"
      },
      "source": [
        "F.relu(a)\r\n",
        "plt.plot(a, torch.relu(a))\r\n",
        "plt.suptitle('relu', fontsize=20)"
      ],
      "execution_count": null,
      "outputs": [
        {
          "output_type": "execute_result",
          "data": {
            "text/plain": [
              "Text(0.5, 0.98, 'relu')"
            ]
          },
          "metadata": {
            "tags": []
          },
          "execution_count": 35
        },
        {
          "output_type": "display_data",
          "data": {
            "image/png": "[encoded data removed]",
            "text/plain": [
              "<Figure size 432x288 with 1 Axes>"
            ]
          },
          "metadata": {
            "tags": []
          }
        }
      ]
    },
    {
      "cell_type": "markdown",
      "metadata": {
        "id": "dHCDCnlJx8dh"
      },
      "source": [
        "### 损失函数\r\n",
        "* Mean Squared Error(MSE)\r\n",
        "* Cross Entropy Loss\r\n",
        "  * binary\r\n",
        "  * multi-class\r\n",
        "  * +softmax\r\n",
        "  * Leave it to Logistic Regression Part"
      ]
    },
    {
      "cell_type": "markdown",
      "metadata": {
        "id": "mQfd_S0xyDPi"
      },
      "source": [
        "### Gradient API\r\n",
        "* torch.autograd.grad(loss, [w1, w2, ...])\r\n",
        "* loss.backward()"
      ]
    },
    {
      "cell_type": "code",
      "metadata": {
        "colab": {
          "base_uri": "https://localhost:8080/"
        },
        "id": "CdQCzjNQvbzO",
        "outputId": "ef383e67-e710-41b8-d4bc-439d2d28194a"
      },
      "source": [
        "x = torch.ones(1).float()\r\n",
        "x"
      ],
      "execution_count": null,
      "outputs": [
        {
          "output_type": "execute_result",
          "data": {
            "text/plain": [
              "tensor([1.])"
            ]
          },
          "metadata": {
            "tags": []
          },
          "execution_count": 36
        }
      ]
    },
    {
      "cell_type": "code",
      "metadata": {
        "colab": {
          "base_uri": "https://localhost:8080/"
        },
        "id": "WVunhzZszIAC",
        "outputId": "ef999720-8d9e-4115-9165-301fefef895a"
      },
      "source": [
        "w = torch.full([1], 2).float()\r\n",
        "w"
      ],
      "execution_count": null,
      "outputs": [
        {
          "output_type": "execute_result",
          "data": {
            "text/plain": [
              "tensor([2.])"
            ]
          },
          "metadata": {
            "tags": []
          },
          "execution_count": 37
        }
      ]
    },
    {
      "cell_type": "code",
      "metadata": {
        "colab": {
          "base_uri": "https://localhost:8080/"
        },
        "id": "xT_H0VWRzRFf",
        "outputId": "982883c7-7dab-4798-f77e-71443b82298a"
      },
      "source": [
        "mse = F.mse_loss(torch.ones(1), x*w)\r\n",
        "mse"
      ],
      "execution_count": null,
      "outputs": [
        {
          "output_type": "execute_result",
          "data": {
            "text/plain": [
              "tensor(1.)"
            ]
          },
          "metadata": {
            "tags": []
          },
          "execution_count": 38
        }
      ]
    },
    {
      "cell_type": "code",
      "metadata": {
        "id": "Z7ZUS_ogzbb5"
      },
      "source": [
        "# torch.autograd.grad(mse, [w])\r\n",
        "# RuntimeError: element 0 of tensors does not require grad and does not have a grad_fn"
      ],
      "execution_count": null,
      "outputs": []
    },
    {
      "cell_type": "code",
      "metadata": {
        "colab": {
          "base_uri": "https://localhost:8080/"
        },
        "id": "l0Al6P6Bznic",
        "outputId": "d2adf5e9-acb9-460e-e28c-930a9e3f7262"
      },
      "source": [
        "w.requires_grad_() # 更新信息，w需要梯度信息"
      ],
      "execution_count": null,
      "outputs": [
        {
          "output_type": "execute_result",
          "data": {
            "text/plain": [
              "tensor([2.], requires_grad=True)"
            ]
          },
          "metadata": {
            "tags": []
          },
          "execution_count": 40
        }
      ]
    },
    {
      "cell_type": "code",
      "metadata": {
        "id": "Q9rE1W8fzzZz"
      },
      "source": [
        "# torch.autograd.grad(mse, [w])\r\n",
        "# 前边图已经建好了，需要重建"
      ],
      "execution_count": null,
      "outputs": []
    },
    {
      "cell_type": "code",
      "metadata": {
        "id": "JtGw417b0ElP"
      },
      "source": [
        "mse = F.mse_loss(torch.ones(1), x*w)"
      ],
      "execution_count": null,
      "outputs": []
    },
    {
      "cell_type": "code",
      "metadata": {
        "colab": {
          "base_uri": "https://localhost:8080/"
        },
        "id": "P2iPDv0M0Pix",
        "outputId": "65282ad0-87eb-426b-880d-63ad5a19caee"
      },
      "source": [
        "torch.autograd.grad(mse, [w])"
      ],
      "execution_count": null,
      "outputs": [
        {
          "output_type": "execute_result",
          "data": {
            "text/plain": [
              "(tensor([2.]),)"
            ]
          },
          "metadata": {
            "tags": []
          },
          "execution_count": 43
        }
      ]
    },
    {
      "cell_type": "markdown",
      "metadata": {
        "id": "z7_LUW0MxRAe"
      },
      "source": [
        "loss.backward()"
      ]
    },
    {
      "cell_type": "code",
      "metadata": {
        "id": "t_XUkXOm0QUR"
      },
      "source": [
        "mse = F.mse_loss(torch.ones(1), x*w)\r\n",
        "mse.backward()"
      ],
      "execution_count": null,
      "outputs": []
    },
    {
      "cell_type": "code",
      "metadata": {
        "colab": {
          "base_uri": "https://localhost:8080/"
        },
        "id": "OFA9DDjixdUf",
        "outputId": "fb0060ac-6fea-4f88-d9d6-605406a6f394"
      },
      "source": [
        "w.grad"
      ],
      "execution_count": null,
      "outputs": [
        {
          "output_type": "execute_result",
          "data": {
            "text/plain": [
              "tensor([2.])"
            ]
          },
          "metadata": {
            "tags": []
          },
          "execution_count": 45
        }
      ]
    },
    {
      "cell_type": "markdown",
      "metadata": {
        "id": "mm8IqcZ3ydUh"
      },
      "source": [
        "### 激活函数Softmax"
      ]
    },
    {
      "cell_type": "code",
      "metadata": {
        "colab": {
          "base_uri": "https://localhost:8080/"
        },
        "id": "AnJtiPQ3xhzq",
        "outputId": "323f18e6-dc00-4571-adb7-ca3f780f1b86"
      },
      "source": [
        "a = torch.rand(3)\r\n",
        "a"
      ],
      "execution_count": null,
      "outputs": [
        {
          "output_type": "execute_result",
          "data": {
            "text/plain": [
              "tensor([0.9276, 0.4183, 0.9416])"
            ]
          },
          "metadata": {
            "tags": []
          },
          "execution_count": 46
        }
      ]
    },
    {
      "cell_type": "code",
      "metadata": {
        "colab": {
          "base_uri": "https://localhost:8080/"
        },
        "id": "7bMXxrTa3AWZ",
        "outputId": "7b9af7db-6ee8-47c9-ad61-f4250baa0fac"
      },
      "source": [
        "a.requires_grad_()"
      ],
      "execution_count": null,
      "outputs": [
        {
          "output_type": "execute_result",
          "data": {
            "text/plain": [
              "tensor([0.9276, 0.4183, 0.9416], requires_grad=True)"
            ]
          },
          "metadata": {
            "tags": []
          },
          "execution_count": 47
        }
      ]
    },
    {
      "cell_type": "code",
      "metadata": {
        "colab": {
          "base_uri": "https://localhost:8080/"
        },
        "id": "33_kXShA3EYk",
        "outputId": "055ce84e-9598-47c6-b37a-c85fb4a170bd"
      },
      "source": [
        "p = F.softmax(a, dim=0)\r\n",
        "p"
      ],
      "execution_count": null,
      "outputs": [
        {
          "output_type": "execute_result",
          "data": {
            "text/plain": [
              "tensor([0.3824, 0.2298, 0.3878], grad_fn=<SoftmaxBackward>)"
            ]
          },
          "metadata": {
            "tags": []
          },
          "execution_count": 48
        }
      ]
    },
    {
      "cell_type": "code",
      "metadata": {
        "id": "K6YgfgaN3eZs"
      },
      "source": [
        "# p.backward() "
      ],
      "execution_count": null,
      "outputs": []
    },
    {
      "cell_type": "code",
      "metadata": {
        "colab": {
          "base_uri": "https://localhost:8080/"
        },
        "id": "mptCHGNAggF9",
        "outputId": "415d80d7-3d89-4ccc-95ad-6d3a68363b4e"
      },
      "source": [
        "p = F.softmax(a, dim=0)\r\n",
        "p"
      ],
      "execution_count": null,
      "outputs": [
        {
          "output_type": "execute_result",
          "data": {
            "text/plain": [
              "tensor([0.3824, 0.2298, 0.3878], grad_fn=<SoftmaxBackward>)"
            ]
          },
          "metadata": {
            "tags": []
          },
          "execution_count": 53
        }
      ]
    },
    {
      "cell_type": "code",
      "metadata": {
        "colab": {
          "base_uri": "https://localhost:8080/"
        },
        "id": "uKhiyUKEgzBO",
        "outputId": "60bbc1e7-ff16-4588-ce48-55d1c8cb80bf"
      },
      "source": [
        "torch.autograd.grad(p[1], [a], retain_graph=True)"
      ],
      "execution_count": null,
      "outputs": [
        {
          "output_type": "execute_result",
          "data": {
            "text/plain": [
              "(tensor([-0.0879,  0.1770, -0.0891]),)"
            ]
          },
          "metadata": {
            "tags": []
          },
          "execution_count": 54
        }
      ]
    },
    {
      "cell_type": "code",
      "metadata": {
        "colab": {
          "base_uri": "https://localhost:8080/"
        },
        "id": "1G1mr2DshkzQ",
        "outputId": "f75d362f-837b-4ae9-fbd3-a47830d222c5"
      },
      "source": [
        "torch.autograd.grad(p[2], [a])"
      ],
      "execution_count": null,
      "outputs": [
        {
          "output_type": "execute_result",
          "data": {
            "text/plain": [
              "(tensor([-0.1483, -0.0891,  0.2374]),)"
            ]
          },
          "metadata": {
            "tags": []
          },
          "execution_count": 55
        }
      ]
    },
    {
      "cell_type": "markdown",
      "metadata": {
        "id": "tbuolxaCvTls"
      },
      "source": [
        "## 感知机的梯度推导"
      ]
    },
    {
      "cell_type": "markdown",
      "metadata": {
        "id": "tgoUpoMP4PXM"
      },
      "source": [
        "### 单层感知机"
      ]
    },
    {
      "cell_type": "code",
      "metadata": {
        "colab": {
          "base_uri": "https://localhost:8080/"
        },
        "id": "7Gn0_WkthqP2",
        "outputId": "c9841466-dd02-4831-8d59-3b7b5bd9dc09"
      },
      "source": [
        "x = torch.randn(1, 10)\r\n",
        "x"
      ],
      "execution_count": null,
      "outputs": [
        {
          "output_type": "execute_result",
          "data": {
            "text/plain": [
              "tensor([[-0.1465, -1.8298, -0.5152, -0.1576, -0.3295, -0.9647,  0.1012,  0.2668,\n",
              "         -0.9337,  1.3363]])"
            ]
          },
          "metadata": {
            "tags": []
          },
          "execution_count": 69
        }
      ]
    },
    {
      "cell_type": "code",
      "metadata": {
        "colab": {
          "base_uri": "https://localhost:8080/"
        },
        "id": "RxLpzgF7wBAg",
        "outputId": "b144558e-9928-4888-fe9c-3991526a79ae"
      },
      "source": [
        "w = torch.randn(1, 10, requires_grad=True)\r\n",
        "w"
      ],
      "execution_count": null,
      "outputs": [
        {
          "output_type": "execute_result",
          "data": {
            "text/plain": [
              "tensor([[ 1.3760,  1.2454, -1.0105, -0.1059, -2.0536,  0.4346, -0.3652, -0.8429,\n",
              "         -2.0686, -1.2068]], requires_grad=True)"
            ]
          },
          "metadata": {
            "tags": []
          },
          "execution_count": 70
        }
      ]
    },
    {
      "cell_type": "code",
      "metadata": {
        "colab": {
          "base_uri": "https://localhost:8080/"
        },
        "id": "sbkfheXZwdPh",
        "outputId": "8b3c154a-64a7-4434-cb31-0c01662b1adc"
      },
      "source": [
        "o = torch.sigmoid(x@w.t()) # o = x@wt   [1, 10][10, 1] -> [1, 1]\r\n",
        "o, o.shape"
      ],
      "execution_count": null,
      "outputs": [
        {
          "output_type": "execute_result",
          "data": {
            "text/plain": [
              "(tensor([[0.1640]], grad_fn=<SigmoidBackward>), torch.Size([1, 1]))"
            ]
          },
          "metadata": {
            "tags": []
          },
          "execution_count": 71
        }
      ]
    },
    {
      "cell_type": "code",
      "metadata": {
        "id": "fGII0Wz2wroX"
      },
      "source": [
        "loss = F.mse_loss(torch.ones(1, 1), o)"
      ],
      "execution_count": null,
      "outputs": []
    },
    {
      "cell_type": "code",
      "metadata": {
        "colab": {
          "base_uri": "https://localhost:8080/"
        },
        "id": "_26b3Z0WxC0I",
        "outputId": "907a1a62-3cc6-409a-c593-d1b4643e627c"
      },
      "source": [
        "loss"
      ],
      "execution_count": null,
      "outputs": [
        {
          "output_type": "execute_result",
          "data": {
            "text/plain": [
              "tensor(0.6989, grad_fn=<MseLossBackward>)"
            ]
          },
          "metadata": {
            "tags": []
          },
          "execution_count": 73
        }
      ]
    },
    {
      "cell_type": "code",
      "metadata": {
        "colab": {
          "base_uri": "https://localhost:8080/"
        },
        "id": "7GxMCQTbxDra",
        "outputId": "16eec203-29c5-412f-a659-8beced8204aa"
      },
      "source": [
        "loss.shape"
      ],
      "execution_count": null,
      "outputs": [
        {
          "output_type": "execute_result",
          "data": {
            "text/plain": [
              "torch.Size([])"
            ]
          },
          "metadata": {
            "tags": []
          },
          "execution_count": 74
        }
      ]
    },
    {
      "cell_type": "code",
      "metadata": {
        "id": "p_9pQFxuxFIa"
      },
      "source": [
        "loss.backward() # "
      ],
      "execution_count": null,
      "outputs": []
    },
    {
      "cell_type": "code",
      "metadata": {
        "colab": {
          "base_uri": "https://localhost:8080/"
        },
        "id": "bXhWQ3fLxI5N",
        "outputId": "8bd68943-2703-4278-993b-aea99baf7be7"
      },
      "source": [
        "w.grad"
      ],
      "execution_count": null,
      "outputs": [
        {
          "output_type": "execute_result",
          "data": {
            "text/plain": [
              "tensor([[ 0.0336,  0.4195,  0.1181,  0.0361,  0.0755,  0.2211, -0.0232, -0.0612,\n",
              "          0.2140, -0.3063]])"
            ]
          },
          "metadata": {
            "tags": []
          },
          "execution_count": 76
        }
      ]
    },
    {
      "cell_type": "code",
      "metadata": {
        "colab": {
          "base_uri": "https://localhost:8080/"
        },
        "id": "SMqSHcGjxK4J",
        "outputId": "6d5aa196-c976-4dea-fb69-d2f68aa5602d"
      },
      "source": [
        "#  w = w - lr*w.grad"
      ],
      "execution_count": null,
      "outputs": [
        {
          "output_type": "execute_result",
          "data": {
            "text/plain": [
              "tensor([[ 1.3760,  1.2454, -1.0105, -0.1059, -2.0536,  0.4346, -0.3652, -0.8429,\n",
              "         -2.0686, -1.2068]], requires_grad=True)"
            ]
          },
          "metadata": {
            "tags": []
          },
          "execution_count": 77
        }
      ]
    },
    {
      "cell_type": "markdown",
      "metadata": {
        "id": "VnZZwLRV4Tgz"
      },
      "source": [
        "### 多层感知机"
      ]
    },
    {
      "cell_type": "code",
      "metadata": {
        "colab": {
          "base_uri": "https://localhost:8080/"
        },
        "id": "ifCyGFER39hx",
        "outputId": "7c4c82d7-302f-441d-91db-4ae240ac627b"
      },
      "source": [
        "x = torch.randn(1, 10)\r\n",
        "x"
      ],
      "execution_count": null,
      "outputs": [
        {
          "output_type": "execute_result",
          "data": {
            "text/plain": [
              "tensor([[ 0.2475,  0.8349,  1.6537,  0.0686,  0.4028, -0.9601,  0.2788, -0.8227,\n",
              "         -1.7567, -1.2749]])"
            ]
          },
          "metadata": {
            "tags": []
          },
          "execution_count": 97
        }
      ]
    },
    {
      "cell_type": "code",
      "metadata": {
        "colab": {
          "base_uri": "https://localhost:8080/"
        },
        "id": "uXo5ewFD5rl8",
        "outputId": "3e9e2586-2363-443f-81b3-6914d9348a9b"
      },
      "source": [
        "w = torch.randn(2, 10, requires_grad=True)\r\n",
        "w"
      ],
      "execution_count": null,
      "outputs": [
        {
          "output_type": "execute_result",
          "data": {
            "text/plain": [
              "tensor([[-0.4075,  1.0559, -0.1422,  2.8708, -1.3839, -2.1603, -0.3048,  0.0615,\n",
              "         -0.1561, -0.2613],\n",
              "        [ 0.1265, -0.5917, -0.7767, -0.3994,  0.6835,  0.5673,  0.6521,  0.4654,\n",
              "         -0.9249, -0.2015]], requires_grad=True)"
            ]
          },
          "metadata": {
            "tags": []
          },
          "execution_count": 98
        }
      ]
    },
    {
      "cell_type": "code",
      "metadata": {
        "colab": {
          "base_uri": "https://localhost:8080/"
        },
        "id": "-CZPwq-V5vcX",
        "outputId": "a50c3e35-659b-4368-df43-090a47642a0c"
      },
      "source": [
        "o = torch.sigmoid(x@w.t())\r\n",
        "o.shape"
      ],
      "execution_count": null,
      "outputs": [
        {
          "output_type": "execute_result",
          "data": {
            "text/plain": [
              "torch.Size([1, 2])"
            ]
          },
          "metadata": {
            "tags": []
          },
          "execution_count": 99
        }
      ]
    },
    {
      "cell_type": "code",
      "metadata": {
        "colab": {
          "base_uri": "https://localhost:8080/"
        },
        "id": "TSnFKhIK52pU",
        "outputId": "e5450c65-9e95-497a-82d9-41c317db55ec"
      },
      "source": [
        "loss = F.mse_loss(torch.ones(1, 2), o)\r\n",
        "loss"
      ],
      "execution_count": null,
      "outputs": [
        {
          "output_type": "execute_result",
          "data": {
            "text/plain": [
              "tensor(0.1758, grad_fn=<MseLossBackward>)"
            ]
          },
          "metadata": {
            "tags": []
          },
          "execution_count": 100
        }
      ]
    },
    {
      "cell_type": "code",
      "metadata": {
        "id": "u3XlmyD76Cpt"
      },
      "source": [
        "loss.backward()"
      ],
      "execution_count": null,
      "outputs": []
    },
    {
      "cell_type": "code",
      "metadata": {
        "colab": {
          "base_uri": "https://localhost:8080/"
        },
        "id": "aQvk_38K6OEt",
        "outputId": "5a97b0af-a438-4ed8-ea4b-ac88c92ecb2f"
      },
      "source": [
        "w.grad"
      ],
      "execution_count": null,
      "outputs": [
        {
          "output_type": "execute_result",
          "data": {
            "text/plain": [
              "tensor([[-8.6937e-04, -2.9333e-03, -5.8097e-03, -2.4114e-04, -1.4153e-03,\n",
              "          3.3730e-03, -9.7933e-04,  2.8902e-03,  6.1717e-03,  4.4790e-03],\n",
              "        [-3.5312e-02, -1.1914e-01, -2.3598e-01, -9.7948e-03, -5.7485e-02,\n",
              "          1.3700e-01, -3.9778e-02,  1.1739e-01,  2.5068e-01,  1.8193e-01]])"
            ]
          },
          "metadata": {
            "tags": []
          },
          "execution_count": 102
        }
      ]
    },
    {
      "cell_type": "markdown",
      "metadata": {
        "id": "E1NK_esv7Bkh"
      },
      "source": [
        "## 链式法则"
      ]
    },
    {
      "cell_type": "code",
      "metadata": {
        "id": "mo7yTLiW9XrS"
      },
      "source": [
        "from torch import autograd"
      ],
      "execution_count": null,
      "outputs": []
    },
    {
      "cell_type": "code",
      "metadata": {
        "id": "s6F191yF6oMZ"
      },
      "source": [
        "x = torch.tensor(1.)\r\n",
        "w1 = torch.tensor(2., requires_grad=True)\r\n",
        "b1 = torch.tensor(1.)\r\n",
        "w2 = torch.tensor(2., requires_grad=True)\r\n",
        "b2 = torch.tensor(1.)"
      ],
      "execution_count": null,
      "outputs": []
    },
    {
      "cell_type": "code",
      "metadata": {
        "id": "qIPOVgTh8AP9"
      },
      "source": [
        "y1 = x*w1 + b1\r\n",
        "y2 = y1*w2 + b2"
      ],
      "execution_count": null,
      "outputs": []
    },
    {
      "cell_type": "code",
      "metadata": {
        "colab": {
          "base_uri": "https://localhost:8080/"
        },
        "id": "c3ObDYsx8eil",
        "outputId": "1de109c1-f69d-425e-b78e-f5d9b270f280"
      },
      "source": [
        "y1, y2"
      ],
      "execution_count": null,
      "outputs": [
        {
          "output_type": "execute_result",
          "data": {
            "text/plain": [
              "(tensor(3., grad_fn=<AddBackward0>), tensor(7., grad_fn=<AddBackward0>))"
            ]
          },
          "metadata": {
            "tags": []
          },
          "execution_count": 107
        }
      ]
    },
    {
      "cell_type": "code",
      "metadata": {
        "id": "LiThv5kp8f2x"
      },
      "source": [
        "dy2_dy1 = autograd.grad(y2, [y1], retain_graph=True)[0]\r\n",
        "dy1_dw1 = autograd.grad(y1, [w1], retain_graph=True)[0]\r\n",
        "dy2_dw1 = autograd.grad(y2, [w1], retain_graph=True)[0]"
      ],
      "execution_count": null,
      "outputs": []
    },
    {
      "cell_type": "code",
      "metadata": {
        "colab": {
          "base_uri": "https://localhost:8080/"
        },
        "id": "ugJGYYan8kZo",
        "outputId": "48074eed-bd34-4c13-bec6-1c6ec9a01aee"
      },
      "source": [
        "dy2_dy1, dy1_dw1, dy2_dw1"
      ],
      "execution_count": null,
      "outputs": [
        {
          "output_type": "execute_result",
          "data": {
            "text/plain": [
              "(tensor(2.), tensor(1.), tensor(2.))"
            ]
          },
          "metadata": {
            "tags": []
          },
          "execution_count": 115
        }
      ]
    },
    {
      "cell_type": "code",
      "metadata": {
        "colab": {
          "base_uri": "https://localhost:8080/"
        },
        "id": "wQ70TysR9iai",
        "outputId": "de8f21a3-563f-40db-9f89-32a0091da406"
      },
      "source": [
        "dy2_dy1 * dy1_dw1"
      ],
      "execution_count": null,
      "outputs": [
        {
          "output_type": "execute_result",
          "data": {
            "text/plain": [
              "tensor(2.)"
            ]
          },
          "metadata": {
            "tags": []
          },
          "execution_count": 116
        }
      ]
    },
    {
      "cell_type": "markdown",
      "metadata": {
        "id": "M-jkEK9290qE"
      },
      "source": [
        "## MLP反向传播"
      ]
    },
    {
      "cell_type": "code",
      "metadata": {
        "id": "fTublIV29roB"
      },
      "source": [
        ""
      ],
      "execution_count": null,
      "outputs": []
    },
    {
      "cell_type": "markdown",
      "metadata": {
        "id": "b_tZs0H-0nNv"
      },
      "source": [
        "## 2D函数优化实例"
      ]
    },
    {
      "cell_type": "code",
      "metadata": {
        "id": "FASFrxAd36lv"
      },
      "source": [
        "%matplotlib inline"
      ],
      "execution_count": 35,
      "outputs": []
    },
    {
      "cell_type": "code",
      "metadata": {
        "colab": {
          "base_uri": "https://localhost:8080/",
          "height": 248
        },
        "id": "IZhlN9YB54Ig",
        "outputId": "1f53a07b-d8de-4b3e-ac31-739327c50774"
      },
      "source": [
        "import numpy as np\r\n",
        "import matplotlib.pyplot as plt\r\n",
        "\r\n",
        "def himmelblau(x):\r\n",
        "  return (x[0] ** 2 + x[1] - 11) ** 2 + (x[0] + x[1] ** 2 - 7) ** 2\r\n",
        "\r\n",
        "x = np.arange(-6, 6, 0.01)\r\n",
        "y = np.arange(-6, 6, 0.01)\r\n",
        "\r\n",
        "X, Y = np.meshgrid(x, y)\r\n",
        "Z = himmelblau([X, Y])\r\n",
        "\r\n",
        "fig = plt.figure('himmelblau')\r\n",
        "ax = fig.gca(projection='3d')\r\n",
        "ax.plot_surface(X, Y, Z)\r\n",
        "ax.view_init(60, -30)\r\n",
        "ax.set_xlabel('x')\r\n",
        "ax.set_ylabel('y')\r\n",
        "plt.show()"
      ],
      "execution_count": 50,
      "outputs": [
        {
          "output_type": "display_data",
          "data": {
            "image/png": "[encoded data removed]",
            "text/plain": [
              "<Figure size 432x288 with 1 Axes>"
            ]
          },
          "metadata": {
            "tags": [],
            "needs_background": "light"
          }
        }
      ]
    },
    {
      "cell_type": "code",
      "metadata": {
        "colab": {
          "base_uri": "https://localhost:8080/"
        },
        "id": "BY-qwyrf2zHd",
        "outputId": "d182d8fd-4aea-46c2-c9a0-d8e58b8c2590"
      },
      "source": [
        "x = torch.tensor([4., 0.], requires_grad=True) #初始化非常重要\r\n",
        "optimizer = torch.optim.Adam([x], lr=1e-3)\r\n",
        "for step in range(20000):\r\n",
        "  pred = himmelblau(x)\r\n",
        "  optimizer.zero_grad()\r\n",
        "  pred.backward()\r\n",
        "  optimizer.step()\r\n",
        "\r\n",
        "  if step % 2000 == 0:\r\n",
        "    print('step {}: x = {}, f(x) = {}'.format(step, x.tolist(), pred.item()))"
      ],
      "execution_count": 53,
      "outputs": [
        {
          "output_type": "stream",
          "text": [
            "step 0: x = [3.999000072479248, -0.0009999999310821295], f(x) = 34.0\n",
            "step 2000: x = [3.5741987228393555, -1.7641836404800415], f(x) = 0.09904662519693375\n",
            "step 4000: x = [3.5844225883483887, -1.8481197357177734], f(x) = 2.1100277081131935e-09\n",
            "step 6000: x = [3.5844264030456543, -1.8481241464614868], f(x) = 2.41016095969826e-10\n",
            "step 8000: x = [3.58442759513855, -1.848125696182251], f(x) = 2.9103830456733704e-11\n",
            "step 10000: x = [3.584428310394287, -1.8481262922286987], f(x) = 9.094947017729282e-13\n",
            "step 12000: x = [3.584428310394287, -1.8481265306472778], f(x) = 0.0\n",
            "step 14000: x = [3.584428310394287, -1.8481265306472778], f(x) = 0.0\n",
            "step 16000: x = [3.584428310394287, -1.8481265306472778], f(x) = 0.0\n",
            "step 18000: x = [3.584428310394287, -1.8481265306472778], f(x) = 0.0\n"
          ],
          "name": "stdout"
        }
      ]
    },
    {
      "cell_type": "code",
      "metadata": {
        "id": "63I9ccXD6qkV"
      },
      "source": [
        ""
      ],
      "execution_count": null,
      "outputs": []
    }
  ]
}