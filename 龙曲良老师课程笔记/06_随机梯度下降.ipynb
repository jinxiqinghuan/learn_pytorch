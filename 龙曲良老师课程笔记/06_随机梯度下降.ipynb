{
  "nbformat": 4,
  "nbformat_minor": 0,
  "metadata": {
    "colab": {
      "name": "龙曲良老师课程笔记/06_随机梯度下降.ipynb",
      "provenance": [],
      "collapsed_sections": [],
      "toc_visible": true,
      "authorship_tag": "ABX9TyPt6W6h8uiFDi1rmg4sjkJz",
      "include_colab_link": true
    },
    "kernelspec": {
      "name": "python3",
      "display_name": "Python 3"
    }
  },
  "cells": [
    {
      "cell_type": "markdown",
      "metadata": {
        "id": "view-in-github",
        "colab_type": "text"
      },
      "source": [
        "<a href=\"https://colab.research.google.com/github/jinxiqinghuan/learn_pytorch/blob/main/%E9%BE%99%E6%9B%B2%E8%89%AF%E8%80%81%E5%B8%88%E8%AF%BE%E7%A8%8B%E7%AC%94%E8%AE%B0/06_%E9%9A%8F%E6%9C%BA%E6%A2%AF%E5%BA%A6%E4%B8%8B%E9%99%8D.ipynb\" target=\"_parent\"><img src=\"https://colab.research.google.com/assets/colab-badge.svg\" alt=\"Open In Colab\"/></a>"
      ]
    },
    {
      "cell_type": "markdown",
      "metadata": {
        "id": "EMwuo2yPt5cx"
      },
      "source": [
        "# 06. 随机梯度下降"
      ]
    },
    {
      "cell_type": "code",
      "metadata": {
        "id": "jSpk2bb4uSJs"
      },
      "source": [
        "import torch\r\n",
        "from torch.nn import functional as F\r\n",
        "from matplotlib import pyplot as plt"
      ],
      "execution_count": 10,
      "outputs": []
    },
    {
      "cell_type": "markdown",
      "metadata": {
        "id": "LXDRKDFluI9V"
      },
      "source": [
        "## 激活函数与loss的梯度"
      ]
    },
    {
      "cell_type": "markdown",
      "metadata": {
        "id": "5CJ88cs6xKk8"
      },
      "source": [
        "### 激活函数\r\n",
        "* sigmoid\r\n",
        "* tanh\r\n",
        "* relu"
      ]
    },
    {
      "cell_type": "code",
      "metadata": {
        "id": "Fb15cYIst_EK"
      },
      "source": [
        "a = torch.linspace(-5, 5, 100)"
      ],
      "execution_count": 36,
      "outputs": []
    },
    {
      "cell_type": "code",
      "metadata": {
        "colab": {
          "base_uri": "https://localhost:8080/"
        },
        "id": "y1-PN7XHueeP",
        "outputId": "7fec83d8-fe4c-4634-9aea-8fb5055cd4e1"
      },
      "source": [
        "torch.sigmoid(a)"
      ],
      "execution_count": 37,
      "outputs": [
        {
          "output_type": "execute_result",
          "data": {
            "text/plain": [
              "tensor([0.0067, 0.0074, 0.0082, 0.0090, 0.0100, 0.0110, 0.0122, 0.0135, 0.0149,\n",
              "        0.0164, 0.0182, 0.0201, 0.0221, 0.0244, 0.0270, 0.0297, 0.0328, 0.0362,\n",
              "        0.0399, 0.0439, 0.0483, 0.0532, 0.0585, 0.0644, 0.0707, 0.0776, 0.0852,\n",
              "        0.0934, 0.1023, 0.1120, 0.1224, 0.1337, 0.1458, 0.1589, 0.1728, 0.1878,\n",
              "        0.2036, 0.2205, 0.2384, 0.2572, 0.2770, 0.2976, 0.3192, 0.3415, 0.3646,\n",
              "        0.3883, 0.4125, 0.4372, 0.4622, 0.4874, 0.5126, 0.5378, 0.5628, 0.5875,\n",
              "        0.6117, 0.6354, 0.6585, 0.6808, 0.7024, 0.7230, 0.7428, 0.7616, 0.7795,\n",
              "        0.7964, 0.8122, 0.8272, 0.8411, 0.8542, 0.8663, 0.8776, 0.8880, 0.8977,\n",
              "        0.9066, 0.9148, 0.9224, 0.9293, 0.9356, 0.9415, 0.9468, 0.9517, 0.9561,\n",
              "        0.9601, 0.9638, 0.9672, 0.9703, 0.9730, 0.9756, 0.9779, 0.9799, 0.9818,\n",
              "        0.9836, 0.9851, 0.9865, 0.9878, 0.9890, 0.9900, 0.9910, 0.9918, 0.9926,\n",
              "        0.9933])"
            ]
          },
          "metadata": {
            "tags": []
          },
          "execution_count": 37
        }
      ]
    },
    {
      "cell_type": "code",
      "metadata": {
        "colab": {
          "base_uri": "https://localhost:8080/",
          "height": 312
        },
        "id": "bC2VRKsFv3pv",
        "outputId": "2fbf250a-3982-4049-9889-001167f39a64"
      },
      "source": [
        "plt.figure('sigmlid')\r\n",
        "plt.plot(a, torch.sigmoid(a))\r\n",
        "plt.suptitle('sigmoid', fontsize=20)\r\n",
        "plt.show"
      ],
      "execution_count": 38,
      "outputs": [
        {
          "output_type": "execute_result",
          "data": {
            "text/plain": [
              "<function matplotlib.pyplot.show>"
            ]
          },
          "metadata": {
            "tags": []
          },
          "execution_count": 38
        },
        {
          "output_type": "display_data",
          "data": {
            "image/png": "[encoded data removed]",
            "text/plain": [
              "<Figure size 432x288 with 1 Axes>"
            ]
          },
          "metadata": {
            "tags": [],
            "needs_background": "light"
          }
        }
      ]
    },
    {
      "cell_type": "code",
      "metadata": {
        "colab": {
          "base_uri": "https://localhost:8080/",
          "height": 312
        },
        "id": "FORkKxkNuzlU",
        "outputId": "086fccaf-8313-4b30-f22e-9dd4763712b3"
      },
      "source": [
        "a = torch.linspace(-5, 5, 100)\r\n",
        "torch.tanh(a)\r\n",
        "plt.plot(a, torch.tanh(a))\r\n",
        "plt.suptitle('tanh', fontsize=20)\r\n"
      ],
      "execution_count": 39,
      "outputs": [
        {
          "output_type": "execute_result",
          "data": {
            "text/plain": [
              "Text(0.5, 0.98, 'tanh')"
            ]
          },
          "metadata": {
            "tags": []
          },
          "execution_count": 39
        },
        {
          "output_type": "display_data",
          "data": {
            "image/png": "[encoded data removed]",
            "text/plain": [
              "<Figure size 432x288 with 1 Axes>"
            ]
          },
          "metadata": {
            "tags": [],
            "needs_background": "light"
          }
        }
      ]
    },
    {
      "cell_type": "code",
      "metadata": {
        "colab": {
          "base_uri": "https://localhost:8080/",
          "height": 312
        },
        "id": "yI3mMoRrujIJ",
        "outputId": "faa37803-fe3e-4b6d-f3f6-34ee97a5ae43"
      },
      "source": [
        "F.relu(a)\r\n",
        "plt.plot(a, torch.relu(a))\r\n",
        "plt.suptitle('relu', fontsize=20)"
      ],
      "execution_count": 40,
      "outputs": [
        {
          "output_type": "execute_result",
          "data": {
            "text/plain": [
              "Text(0.5, 0.98, 'relu')"
            ]
          },
          "metadata": {
            "tags": []
          },
          "execution_count": 40
        },
        {
          "output_type": "display_data",
          "data": {
            "image/png": "[encoded data removed]",
            "text/plain": [
              "<Figure size 432x288 with 1 Axes>"
            ]
          },
          "metadata": {
            "tags": [],
            "needs_background": "light"
          }
        }
      ]
    },
    {
      "cell_type": "markdown",
      "metadata": {
        "id": "dHCDCnlJx8dh"
      },
      "source": [
        "### 损失函数\r\n",
        "* Mean Squared Error(MSE)\r\n",
        "* Cross Entropy Loss\r\n",
        "  * binary\r\n",
        "  * multi-class\r\n",
        "  * +softmax\r\n",
        "  * Leave it to Logistic Regression Part"
      ]
    },
    {
      "cell_type": "markdown",
      "metadata": {
        "id": "XmFQU4hMyk92"
      },
      "source": [
        "### Autograd.grad"
      ]
    },
    {
      "cell_type": "code",
      "metadata": {
        "colab": {
          "base_uri": "https://localhost:8080/"
        },
        "id": "CdQCzjNQvbzO",
        "outputId": "f1986ee3-79c6-41d6-c832-481e2aadec61"
      },
      "source": [
        "x = torch.ones(1).float()\r\n",
        "x"
      ],
      "execution_count": 60,
      "outputs": [
        {
          "output_type": "execute_result",
          "data": {
            "text/plain": [
              "tensor([1.])"
            ]
          },
          "metadata": {
            "tags": []
          },
          "execution_count": 60
        }
      ]
    },
    {
      "cell_type": "code",
      "metadata": {
        "colab": {
          "base_uri": "https://localhost:8080/"
        },
        "id": "WVunhzZszIAC",
        "outputId": "9d4b30c4-9946-4660-a1f7-42aec2618393"
      },
      "source": [
        "w = torch.full([1], 2).float()\r\n",
        "w"
      ],
      "execution_count": 61,
      "outputs": [
        {
          "output_type": "execute_result",
          "data": {
            "text/plain": [
              "tensor([2.])"
            ]
          },
          "metadata": {
            "tags": []
          },
          "execution_count": 61
        }
      ]
    },
    {
      "cell_type": "code",
      "metadata": {
        "colab": {
          "base_uri": "https://localhost:8080/"
        },
        "id": "xT_H0VWRzRFf",
        "outputId": "58c39b57-702e-4633-ad76-235f35fbd9e1"
      },
      "source": [
        "mse = F.mse_loss(torch.ones(1), x*w)\r\n",
        "mse"
      ],
      "execution_count": 62,
      "outputs": [
        {
          "output_type": "execute_result",
          "data": {
            "text/plain": [
              "tensor(1.)"
            ]
          },
          "metadata": {
            "tags": []
          },
          "execution_count": 62
        }
      ]
    },
    {
      "cell_type": "code",
      "metadata": {
        "id": "Z7ZUS_ogzbb5"
      },
      "source": [
        "# torch.autograd.grad(mse, [w])\r\n",
        "# RuntimeError: element 0 of tensors does not require grad and does not have a grad_fn"
      ],
      "execution_count": 63,
      "outputs": []
    },
    {
      "cell_type": "code",
      "metadata": {
        "colab": {
          "base_uri": "https://localhost:8080/"
        },
        "id": "l0Al6P6Bznic",
        "outputId": "7edb9e9e-719e-4e79-dfe1-6f494b3a0acc"
      },
      "source": [
        "w.requires_grad_()"
      ],
      "execution_count": 64,
      "outputs": [
        {
          "output_type": "execute_result",
          "data": {
            "text/plain": [
              "tensor([2.], requires_grad=True)"
            ]
          },
          "metadata": {
            "tags": []
          },
          "execution_count": 64
        }
      ]
    },
    {
      "cell_type": "code",
      "metadata": {
        "id": "Q9rE1W8fzzZz"
      },
      "source": [
        "# torch.autograd.grad(mse, [w])\r\n",
        "# 前边图已经建好了，需要重建"
      ],
      "execution_count": 65,
      "outputs": []
    },
    {
      "cell_type": "code",
      "metadata": {
        "id": "JtGw417b0ElP"
      },
      "source": [
        "mse = F.mse_loss(torch.ones(1), x*w)"
      ],
      "execution_count": 66,
      "outputs": []
    },
    {
      "cell_type": "code",
      "metadata": {
        "colab": {
          "base_uri": "https://localhost:8080/"
        },
        "id": "P2iPDv0M0Pix",
        "outputId": "ee225656-1775-4d2f-8f88-7c44e023b96a"
      },
      "source": [
        "torch.autograd.grad(mse, [w])"
      ],
      "execution_count": 67,
      "outputs": [
        {
          "output_type": "execute_result",
          "data": {
            "text/plain": [
              "(tensor([2.]),)"
            ]
          },
          "metadata": {
            "tags": []
          },
          "execution_count": 67
        }
      ]
    },
    {
      "cell_type": "code",
      "metadata": {
        "id": "t_XUkXOm0QUR"
      },
      "source": [
        ""
      ],
      "execution_count": 67,
      "outputs": []
    }
  ]
}